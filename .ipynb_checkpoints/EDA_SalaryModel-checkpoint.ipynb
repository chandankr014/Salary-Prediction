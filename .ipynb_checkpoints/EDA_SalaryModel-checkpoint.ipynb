{
 "cells": [
  {
   "cell_type": "code",
   "execution_count": 1,
   "id": "f31978e7",
   "metadata": {},
   "outputs": [],
   "source": [
    "import numpy as np\n",
    "import pandas as pd"
   ]
  },
  {
   "cell_type": "code",
   "execution_count": 2,
   "id": "13f9bd42",
   "metadata": {},
   "outputs": [],
   "source": [
    "df = pd.read_csv('dataset_scrap_v2A.csv')"
   ]
  },
  {
   "cell_type": "code",
   "execution_count": 3,
   "id": "cea24e98",
   "metadata": {},
   "outputs": [],
   "source": [
    "# df = df[:1000]"
   ]
  },
  {
   "cell_type": "code",
   "execution_count": 4,
   "id": "0ede548c",
   "metadata": {},
   "outputs": [
    {
     "data": {
      "text/html": [
       "<div>\n",
       "<style scoped>\n",
       "    .dataframe tbody tr th:only-of-type {\n",
       "        vertical-align: middle;\n",
       "    }\n",
       "\n",
       "    .dataframe tbody tr th {\n",
       "        vertical-align: top;\n",
       "    }\n",
       "\n",
       "    .dataframe thead th {\n",
       "        text-align: right;\n",
       "    }\n",
       "</style>\n",
       "<table border=\"1\" class=\"dataframe\">\n",
       "  <thead>\n",
       "    <tr style=\"text-align: right;\">\n",
       "      <th></th>\n",
       "      <th>Unnamed: 0</th>\n",
       "      <th>Job Profile</th>\n",
       "      <th>Company</th>\n",
       "      <th>ExperienceRequired</th>\n",
       "      <th>AvgSalary</th>\n",
       "      <th>MinSalary</th>\n",
       "      <th>MaxSalary</th>\n",
       "    </tr>\n",
       "  </thead>\n",
       "  <tbody>\n",
       "    <tr>\n",
       "      <th>0</th>\n",
       "      <td>0</td>\n",
       "      <td>System Engineer</td>\n",
       "      <td>tcs</td>\n",
       "      <td>0-10</td>\n",
       "      <td>5,94,125</td>\n",
       "      <td>2.0</td>\n",
       "      <td>11.2</td>\n",
       "    </tr>\n",
       "    <tr>\n",
       "      <th>1</th>\n",
       "      <td>1</td>\n",
       "      <td>IT Analyst</td>\n",
       "      <td>tcs</td>\n",
       "      <td>3-11</td>\n",
       "      <td>9,05,500</td>\n",
       "      <td>3.4</td>\n",
       "      <td>20.5</td>\n",
       "    </tr>\n",
       "    <tr>\n",
       "      <th>2</th>\n",
       "      <td>2</td>\n",
       "      <td>AST Consultant</td>\n",
       "      <td>tcs</td>\n",
       "      <td>6-15</td>\n",
       "      <td>14,59,521</td>\n",
       "      <td>4.0</td>\n",
       "      <td>29.8</td>\n",
       "    </tr>\n",
       "    <tr>\n",
       "      <th>3</th>\n",
       "      <td>3</td>\n",
       "      <td>Assistant System Engineer</td>\n",
       "      <td>tcs</td>\n",
       "      <td>0-4</td>\n",
       "      <td>3,95,563</td>\n",
       "      <td>2.5</td>\n",
       "      <td>5.9</td>\n",
       "    </tr>\n",
       "    <tr>\n",
       "      <th>4</th>\n",
       "      <td>4</td>\n",
       "      <td>Associate Consultant</td>\n",
       "      <td>tcs</td>\n",
       "      <td>4-21</td>\n",
       "      <td>18,13,704</td>\n",
       "      <td>3.8</td>\n",
       "      <td>34.2</td>\n",
       "    </tr>\n",
       "  </tbody>\n",
       "</table>\n",
       "</div>"
      ],
      "text/plain": [
       "   Unnamed: 0                Job Profile Company ExperienceRequired  \\\n",
       "0           0            System Engineer     tcs               0-10   \n",
       "1           1                 IT Analyst     tcs               3-11   \n",
       "2           2             AST Consultant     tcs               6-15   \n",
       "3           3  Assistant System Engineer     tcs                0-4   \n",
       "4           4       Associate Consultant     tcs               4-21   \n",
       "\n",
       "   AvgSalary  MinSalary  MaxSalary  \n",
       "0   5,94,125        2.0       11.2  \n",
       "1   9,05,500        3.4       20.5  \n",
       "2  14,59,521        4.0       29.8  \n",
       "3   3,95,563        2.5        5.9  \n",
       "4  18,13,704        3.8       34.2  "
      ]
     },
     "execution_count": 4,
     "metadata": {},
     "output_type": "execute_result"
    }
   ],
   "source": [
    "df.head()"
   ]
  },
  {
   "cell_type": "code",
   "execution_count": 5,
   "id": "8dcb8120",
   "metadata": {},
   "outputs": [],
   "source": [
    "df = df.drop('Unnamed: 0', axis=1) \n",
    "df = df.reset_index(drop=True)"
   ]
  },
  {
   "cell_type": "code",
   "execution_count": 6,
   "id": "e42e27c1",
   "metadata": {},
   "outputs": [
    {
     "data": {
      "text/plain": [
       "(5000, 6)"
      ]
     },
     "execution_count": 6,
     "metadata": {},
     "output_type": "execute_result"
    }
   ],
   "source": [
    "df.shape"
   ]
  },
  {
   "cell_type": "code",
   "execution_count": 7,
   "id": "7bcc8ae3",
   "metadata": {},
   "outputs": [
    {
     "data": {
      "text/plain": [
       "Job Profile             0\n",
       "Company                 0\n",
       "ExperienceRequired      0\n",
       "AvgSalary               0\n",
       "MinSalary             699\n",
       "MaxSalary             699\n",
       "dtype: int64"
      ]
     },
     "execution_count": 7,
     "metadata": {},
     "output_type": "execute_result"
    }
   ],
   "source": [
    "df.isna().sum()"
   ]
  },
  {
   "cell_type": "code",
   "execution_count": 8,
   "id": "7b020aa1",
   "metadata": {
    "scrolled": true
   },
   "outputs": [
    {
     "data": {
      "text/plain": [
       "ExperienceRequired\n",
       "0-6      325\n",
       "0-5      249\n",
       "0-8      221\n",
       "0-7      218\n",
       "0-4      182\n",
       "        ... \n",
       "11-25      1\n",
       "13-21      1\n",
       "0-18       1\n",
       "2-19       1\n",
       "17-25      1\n",
       "Name: count, Length: 221, dtype: int64"
      ]
     },
     "execution_count": 8,
     "metadata": {},
     "output_type": "execute_result"
    }
   ],
   "source": [
    "df['ExperienceRequired'].value_counts()"
   ]
  },
  {
   "cell_type": "code",
   "execution_count": 9,
   "id": "38d6d3d0",
   "metadata": {},
   "outputs": [
    {
     "data": {
      "text/plain": [
       "(5000,)"
      ]
     },
     "execution_count": 9,
     "metadata": {},
     "output_type": "execute_result"
    }
   ],
   "source": [
    "df['ExperienceRequired'].shape"
   ]
  },
  {
   "cell_type": "code",
   "execution_count": 10,
   "id": "69e87449",
   "metadata": {},
   "outputs": [
    {
     "ename": "KeyboardInterrupt",
     "evalue": "",
     "output_type": "error",
     "traceback": [
      "\u001b[1;31m---------------------------------------------------------------------------\u001b[0m",
      "\u001b[1;31mKeyboardInterrupt\u001b[0m                         Traceback (most recent call last)",
      "Cell \u001b[1;32mIn[10], line 19\u001b[0m\n\u001b[0;32m     16\u001b[0m     \u001b[38;5;28;01mreturn\u001b[39;00m \u001b[38;5;28;01mNone\u001b[39;00m, \u001b[38;5;28;01mNone\u001b[39;00m  \u001b[38;5;66;03m# Invalid format\u001b[39;00m\n\u001b[0;32m     18\u001b[0m \u001b[38;5;66;03m# Apply the cleaning function to 'ExperienceRequired' column and split into min and max columns\u001b[39;00m\n\u001b[1;32m---> 19\u001b[0m df[[\u001b[38;5;124m'\u001b[39m\u001b[38;5;124mMinExperience\u001b[39m\u001b[38;5;124m'\u001b[39m, \u001b[38;5;124m'\u001b[39m\u001b[38;5;124mMaxExperience\u001b[39m\u001b[38;5;124m'\u001b[39m]] \u001b[38;5;241m=\u001b[39m \u001b[43mdf\u001b[49m\u001b[43m[\u001b[49m\u001b[38;5;124;43m'\u001b[39;49m\u001b[38;5;124;43mExperienceRequired\u001b[39;49m\u001b[38;5;124;43m'\u001b[39;49m\u001b[43m]\u001b[49m\u001b[38;5;241;43m.\u001b[39;49m\u001b[43mapply\u001b[49m\u001b[43m(\u001b[49m\u001b[38;5;28;43;01mlambda\u001b[39;49;00m\u001b[43m \u001b[49m\u001b[43mx\u001b[49m\u001b[43m:\u001b[49m\u001b[43m \u001b[49m\u001b[43mpd\u001b[49m\u001b[38;5;241;43m.\u001b[39;49m\u001b[43mSeries\u001b[49m\u001b[43m(\u001b[49m\u001b[43mclean_experience\u001b[49m\u001b[43m(\u001b[49m\u001b[43mx\u001b[49m\u001b[43m)\u001b[49m\u001b[43m)\u001b[49m\u001b[43m)\u001b[49m\n\u001b[0;32m     21\u001b[0m \u001b[38;5;66;03m# Calculate the median of available cleaned experience values\u001b[39;00m\n\u001b[0;32m     22\u001b[0m cleaned_experiences \u001b[38;5;241m=\u001b[39m df[\u001b[38;5;124m'\u001b[39m\u001b[38;5;124mMinExperience\u001b[39m\u001b[38;5;124m'\u001b[39m]\u001b[38;5;241m.\u001b[39mdropna()  \u001b[38;5;66;03m# You can use 'MaxExperience' as well\u001b[39;00m\n",
      "File \u001b[1;32m~\\AppData\\Local\\Programs\\Python\\Python310\\lib\\site-packages\\pandas\\core\\series.py:4630\u001b[0m, in \u001b[0;36mSeries.apply\u001b[1;34m(self, func, convert_dtype, args, **kwargs)\u001b[0m\n\u001b[0;32m   4520\u001b[0m \u001b[38;5;28;01mdef\u001b[39;00m \u001b[38;5;21mapply\u001b[39m(\n\u001b[0;32m   4521\u001b[0m     \u001b[38;5;28mself\u001b[39m,\n\u001b[0;32m   4522\u001b[0m     func: AggFuncType,\n\u001b[1;32m   (...)\u001b[0m\n\u001b[0;32m   4525\u001b[0m     \u001b[38;5;241m*\u001b[39m\u001b[38;5;241m*\u001b[39mkwargs,\n\u001b[0;32m   4526\u001b[0m ) \u001b[38;5;241m-\u001b[39m\u001b[38;5;241m>\u001b[39m DataFrame \u001b[38;5;241m|\u001b[39m Series:\n\u001b[0;32m   4527\u001b[0m \u001b[38;5;250m    \u001b[39m\u001b[38;5;124;03m\"\"\"\u001b[39;00m\n\u001b[0;32m   4528\u001b[0m \u001b[38;5;124;03m    Invoke function on values of Series.\u001b[39;00m\n\u001b[0;32m   4529\u001b[0m \n\u001b[1;32m   (...)\u001b[0m\n\u001b[0;32m   4628\u001b[0m \u001b[38;5;124;03m    dtype: float64\u001b[39;00m\n\u001b[0;32m   4629\u001b[0m \u001b[38;5;124;03m    \"\"\"\u001b[39;00m\n\u001b[1;32m-> 4630\u001b[0m     \u001b[38;5;28;01mreturn\u001b[39;00m \u001b[43mSeriesApply\u001b[49m\u001b[43m(\u001b[49m\u001b[38;5;28;43mself\u001b[39;49m\u001b[43m,\u001b[49m\u001b[43m \u001b[49m\u001b[43mfunc\u001b[49m\u001b[43m,\u001b[49m\u001b[43m \u001b[49m\u001b[43mconvert_dtype\u001b[49m\u001b[43m,\u001b[49m\u001b[43m \u001b[49m\u001b[43margs\u001b[49m\u001b[43m,\u001b[49m\u001b[43m \u001b[49m\u001b[43mkwargs\u001b[49m\u001b[43m)\u001b[49m\u001b[38;5;241;43m.\u001b[39;49m\u001b[43mapply\u001b[49m\u001b[43m(\u001b[49m\u001b[43m)\u001b[49m\n",
      "File \u001b[1;32m~\\AppData\\Local\\Programs\\Python\\Python310\\lib\\site-packages\\pandas\\core\\apply.py:1025\u001b[0m, in \u001b[0;36mSeriesApply.apply\u001b[1;34m(self)\u001b[0m\n\u001b[0;32m   1022\u001b[0m     \u001b[38;5;28;01mreturn\u001b[39;00m \u001b[38;5;28mself\u001b[39m\u001b[38;5;241m.\u001b[39mapply_str()\n\u001b[0;32m   1024\u001b[0m \u001b[38;5;66;03m# self.f is Callable\u001b[39;00m\n\u001b[1;32m-> 1025\u001b[0m \u001b[38;5;28;01mreturn\u001b[39;00m \u001b[38;5;28;43mself\u001b[39;49m\u001b[38;5;241;43m.\u001b[39;49m\u001b[43mapply_standard\u001b[49m\u001b[43m(\u001b[49m\u001b[43m)\u001b[49m\n",
      "File \u001b[1;32m~\\AppData\\Local\\Programs\\Python\\Python310\\lib\\site-packages\\pandas\\core\\apply.py:1085\u001b[0m, in \u001b[0;36mSeriesApply.apply_standard\u001b[1;34m(self)\u001b[0m\n\u001b[0;32m   1076\u001b[0m         mapped \u001b[38;5;241m=\u001b[39m lib\u001b[38;5;241m.\u001b[39mmap_infer(\n\u001b[0;32m   1077\u001b[0m             values,\n\u001b[0;32m   1078\u001b[0m             f,\n\u001b[0;32m   1079\u001b[0m             convert\u001b[38;5;241m=\u001b[39m\u001b[38;5;28mself\u001b[39m\u001b[38;5;241m.\u001b[39mconvert_dtype,\n\u001b[0;32m   1080\u001b[0m         )\n\u001b[0;32m   1082\u001b[0m \u001b[38;5;28;01mif\u001b[39;00m \u001b[38;5;28mlen\u001b[39m(mapped) \u001b[38;5;129;01mand\u001b[39;00m \u001b[38;5;28misinstance\u001b[39m(mapped[\u001b[38;5;241m0\u001b[39m], ABCSeries):\n\u001b[0;32m   1083\u001b[0m     \u001b[38;5;66;03m# GH#43986 Need to do list(mapped) in order to get treated as nested\u001b[39;00m\n\u001b[0;32m   1084\u001b[0m     \u001b[38;5;66;03m#  See also GH#25959 regarding EA support\u001b[39;00m\n\u001b[1;32m-> 1085\u001b[0m     \u001b[38;5;28;01mreturn\u001b[39;00m \u001b[43mobj\u001b[49m\u001b[38;5;241;43m.\u001b[39;49m\u001b[43m_constructor_expanddim\u001b[49m\u001b[43m(\u001b[49m\u001b[38;5;28;43mlist\u001b[39;49m\u001b[43m(\u001b[49m\u001b[43mmapped\u001b[49m\u001b[43m)\u001b[49m\u001b[43m,\u001b[49m\u001b[43m \u001b[49m\u001b[43mindex\u001b[49m\u001b[38;5;241;43m=\u001b[39;49m\u001b[43mobj\u001b[49m\u001b[38;5;241;43m.\u001b[39;49m\u001b[43mindex\u001b[49m\u001b[43m)\u001b[49m\n\u001b[0;32m   1086\u001b[0m \u001b[38;5;28;01melse\u001b[39;00m:\n\u001b[0;32m   1087\u001b[0m     \u001b[38;5;28;01mreturn\u001b[39;00m obj\u001b[38;5;241m.\u001b[39m_constructor(mapped, index\u001b[38;5;241m=\u001b[39mobj\u001b[38;5;241m.\u001b[39mindex)\u001b[38;5;241m.\u001b[39m__finalize__(\n\u001b[0;32m   1088\u001b[0m         obj, method\u001b[38;5;241m=\u001b[39m\u001b[38;5;124m\"\u001b[39m\u001b[38;5;124mapply\u001b[39m\u001b[38;5;124m\"\u001b[39m\n\u001b[0;32m   1089\u001b[0m     )\n",
      "File \u001b[1;32m~\\AppData\\Local\\Programs\\Python\\Python310\\lib\\site-packages\\pandas\\core\\frame.py:782\u001b[0m, in \u001b[0;36mDataFrame.__init__\u001b[1;34m(self, data, index, columns, dtype, copy)\u001b[0m\n\u001b[0;32m    780\u001b[0m     \u001b[38;5;28;01mif\u001b[39;00m columns \u001b[38;5;129;01mis\u001b[39;00m \u001b[38;5;129;01mnot\u001b[39;00m \u001b[38;5;28;01mNone\u001b[39;00m:\n\u001b[0;32m    781\u001b[0m         columns \u001b[38;5;241m=\u001b[39m ensure_index(columns)\n\u001b[1;32m--> 782\u001b[0m     arrays, columns, index \u001b[38;5;241m=\u001b[39m \u001b[43mnested_data_to_arrays\u001b[49m\u001b[43m(\u001b[49m\n\u001b[0;32m    783\u001b[0m \u001b[43m        \u001b[49m\u001b[38;5;66;43;03m# error: Argument 3 to \"nested_data_to_arrays\" has incompatible\u001b[39;49;00m\n\u001b[0;32m    784\u001b[0m \u001b[43m        \u001b[49m\u001b[38;5;66;43;03m# type \"Optional[Collection[Any]]\"; expected \"Optional[Index]\"\u001b[39;49;00m\n\u001b[0;32m    785\u001b[0m \u001b[43m        \u001b[49m\u001b[43mdata\u001b[49m\u001b[43m,\u001b[49m\n\u001b[0;32m    786\u001b[0m \u001b[43m        \u001b[49m\u001b[43mcolumns\u001b[49m\u001b[43m,\u001b[49m\n\u001b[0;32m    787\u001b[0m \u001b[43m        \u001b[49m\u001b[43mindex\u001b[49m\u001b[43m,\u001b[49m\u001b[43m  \u001b[49m\u001b[38;5;66;43;03m# type: ignore[arg-type]\u001b[39;49;00m\n\u001b[0;32m    788\u001b[0m \u001b[43m        \u001b[49m\u001b[43mdtype\u001b[49m\u001b[43m,\u001b[49m\n\u001b[0;32m    789\u001b[0m \u001b[43m    \u001b[49m\u001b[43m)\u001b[49m\n\u001b[0;32m    790\u001b[0m     mgr \u001b[38;5;241m=\u001b[39m arrays_to_mgr(\n\u001b[0;32m    791\u001b[0m         arrays,\n\u001b[0;32m    792\u001b[0m         columns,\n\u001b[1;32m   (...)\u001b[0m\n\u001b[0;32m    795\u001b[0m         typ\u001b[38;5;241m=\u001b[39mmanager,\n\u001b[0;32m    796\u001b[0m     )\n\u001b[0;32m    797\u001b[0m \u001b[38;5;28;01melse\u001b[39;00m:\n",
      "File \u001b[1;32m~\\AppData\\Local\\Programs\\Python\\Python310\\lib\\site-packages\\pandas\\core\\internals\\construction.py:498\u001b[0m, in \u001b[0;36mnested_data_to_arrays\u001b[1;34m(data, columns, index, dtype)\u001b[0m\n\u001b[0;32m    495\u001b[0m \u001b[38;5;28;01mif\u001b[39;00m is_named_tuple(data[\u001b[38;5;241m0\u001b[39m]) \u001b[38;5;129;01mand\u001b[39;00m columns \u001b[38;5;129;01mis\u001b[39;00m \u001b[38;5;28;01mNone\u001b[39;00m:\n\u001b[0;32m    496\u001b[0m     columns \u001b[38;5;241m=\u001b[39m ensure_index(data[\u001b[38;5;241m0\u001b[39m]\u001b[38;5;241m.\u001b[39m_fields)\n\u001b[1;32m--> 498\u001b[0m arrays, columns \u001b[38;5;241m=\u001b[39m \u001b[43mto_arrays\u001b[49m\u001b[43m(\u001b[49m\u001b[43mdata\u001b[49m\u001b[43m,\u001b[49m\u001b[43m \u001b[49m\u001b[43mcolumns\u001b[49m\u001b[43m,\u001b[49m\u001b[43m \u001b[49m\u001b[43mdtype\u001b[49m\u001b[38;5;241;43m=\u001b[39;49m\u001b[43mdtype\u001b[49m\u001b[43m)\u001b[49m\n\u001b[0;32m    499\u001b[0m columns \u001b[38;5;241m=\u001b[39m ensure_index(columns)\n\u001b[0;32m    501\u001b[0m \u001b[38;5;28;01mif\u001b[39;00m index \u001b[38;5;129;01mis\u001b[39;00m \u001b[38;5;28;01mNone\u001b[39;00m:\n",
      "File \u001b[1;32m~\\AppData\\Local\\Programs\\Python\\Python310\\lib\\site-packages\\pandas\\core\\internals\\construction.py:834\u001b[0m, in \u001b[0;36mto_arrays\u001b[1;34m(data, columns, dtype)\u001b[0m\n\u001b[0;32m    832\u001b[0m     arr, columns \u001b[38;5;241m=\u001b[39m _list_of_dict_to_arrays(data, columns)\n\u001b[0;32m    833\u001b[0m \u001b[38;5;28;01melif\u001b[39;00m \u001b[38;5;28misinstance\u001b[39m(data[\u001b[38;5;241m0\u001b[39m], ABCSeries):\n\u001b[1;32m--> 834\u001b[0m     arr, columns \u001b[38;5;241m=\u001b[39m \u001b[43m_list_of_series_to_arrays\u001b[49m\u001b[43m(\u001b[49m\u001b[43mdata\u001b[49m\u001b[43m,\u001b[49m\u001b[43m \u001b[49m\u001b[43mcolumns\u001b[49m\u001b[43m)\u001b[49m\n\u001b[0;32m    835\u001b[0m \u001b[38;5;28;01melse\u001b[39;00m:\n\u001b[0;32m    836\u001b[0m     \u001b[38;5;66;03m# last ditch effort\u001b[39;00m\n\u001b[0;32m    837\u001b[0m     data \u001b[38;5;241m=\u001b[39m [\u001b[38;5;28mtuple\u001b[39m(x) \u001b[38;5;28;01mfor\u001b[39;00m x \u001b[38;5;129;01min\u001b[39;00m data]\n",
      "File \u001b[1;32m~\\AppData\\Local\\Programs\\Python\\Python310\\lib\\site-packages\\pandas\\core\\internals\\construction.py:880\u001b[0m, in \u001b[0;36m_list_of_series_to_arrays\u001b[1;34m(data, columns)\u001b[0m\n\u001b[0;32m    877\u001b[0m         indexer \u001b[38;5;241m=\u001b[39m indexer_cache[\u001b[38;5;28mid\u001b[39m(index)] \u001b[38;5;241m=\u001b[39m index\u001b[38;5;241m.\u001b[39mget_indexer(columns)\n\u001b[0;32m    879\u001b[0m     values \u001b[38;5;241m=\u001b[39m extract_array(s, extract_numpy\u001b[38;5;241m=\u001b[39m\u001b[38;5;28;01mTrue\u001b[39;00m)\n\u001b[1;32m--> 880\u001b[0m     aligned_values\u001b[38;5;241m.\u001b[39mappend(\u001b[43malgorithms\u001b[49m\u001b[38;5;241;43m.\u001b[39;49m\u001b[43mtake_nd\u001b[49m\u001b[43m(\u001b[49m\u001b[43mvalues\u001b[49m\u001b[43m,\u001b[49m\u001b[43m \u001b[49m\u001b[43mindexer\u001b[49m\u001b[43m)\u001b[49m)\n\u001b[0;32m    882\u001b[0m content \u001b[38;5;241m=\u001b[39m np\u001b[38;5;241m.\u001b[39mvstack(aligned_values)\n\u001b[0;32m    883\u001b[0m \u001b[38;5;28;01mreturn\u001b[39;00m content, columns\n",
      "File \u001b[1;32m~\\AppData\\Local\\Programs\\Python\\Python310\\lib\\site-packages\\pandas\\core\\array_algos\\take.py:117\u001b[0m, in \u001b[0;36mtake_nd\u001b[1;34m(arr, indexer, axis, fill_value, allow_fill)\u001b[0m\n\u001b[0;32m    114\u001b[0m     \u001b[38;5;28;01mreturn\u001b[39;00m arr\u001b[38;5;241m.\u001b[39mtake(indexer, fill_value\u001b[38;5;241m=\u001b[39mfill_value, allow_fill\u001b[38;5;241m=\u001b[39mallow_fill)\n\u001b[0;32m    116\u001b[0m arr \u001b[38;5;241m=\u001b[39m np\u001b[38;5;241m.\u001b[39masarray(arr)\n\u001b[1;32m--> 117\u001b[0m \u001b[38;5;28;01mreturn\u001b[39;00m \u001b[43m_take_nd_ndarray\u001b[49m\u001b[43m(\u001b[49m\u001b[43marr\u001b[49m\u001b[43m,\u001b[49m\u001b[43m \u001b[49m\u001b[43mindexer\u001b[49m\u001b[43m,\u001b[49m\u001b[43m \u001b[49m\u001b[43maxis\u001b[49m\u001b[43m,\u001b[49m\u001b[43m \u001b[49m\u001b[43mfill_value\u001b[49m\u001b[43m,\u001b[49m\u001b[43m \u001b[49m\u001b[43mallow_fill\u001b[49m\u001b[43m)\u001b[49m\n",
      "File \u001b[1;32m~\\AppData\\Local\\Programs\\Python\\Python310\\lib\\site-packages\\pandas\\core\\array_algos\\take.py:162\u001b[0m, in \u001b[0;36m_take_nd_ndarray\u001b[1;34m(arr, indexer, axis, fill_value, allow_fill)\u001b[0m\n\u001b[0;32m    157\u001b[0m     out \u001b[38;5;241m=\u001b[39m np\u001b[38;5;241m.\u001b[39mempty(out_shape, dtype\u001b[38;5;241m=\u001b[39mdtype)\n\u001b[0;32m    159\u001b[0m func \u001b[38;5;241m=\u001b[39m _get_take_nd_function(\n\u001b[0;32m    160\u001b[0m     arr\u001b[38;5;241m.\u001b[39mndim, arr\u001b[38;5;241m.\u001b[39mdtype, out\u001b[38;5;241m.\u001b[39mdtype, axis\u001b[38;5;241m=\u001b[39maxis, mask_info\u001b[38;5;241m=\u001b[39mmask_info\n\u001b[0;32m    161\u001b[0m )\n\u001b[1;32m--> 162\u001b[0m \u001b[43mfunc\u001b[49m\u001b[43m(\u001b[49m\u001b[43marr\u001b[49m\u001b[43m,\u001b[49m\u001b[43m \u001b[49m\u001b[43mindexer\u001b[49m\u001b[43m,\u001b[49m\u001b[43m \u001b[49m\u001b[43mout\u001b[49m\u001b[43m,\u001b[49m\u001b[43m \u001b[49m\u001b[43mfill_value\u001b[49m\u001b[43m)\u001b[49m\n\u001b[0;32m    164\u001b[0m \u001b[38;5;28;01mif\u001b[39;00m flip_order:\n\u001b[0;32m    165\u001b[0m     out \u001b[38;5;241m=\u001b[39m out\u001b[38;5;241m.\u001b[39mT\n",
      "\u001b[1;31mKeyboardInterrupt\u001b[0m: "
     ]
    }
   ],
   "source": [
    "import pandas as pd\n",
    "import re\n",
    "\n",
    "# Assuming you have 'df' defined with the 'ExperienceRequired' column containing ranges and dates\n",
    "\n",
    "# Clean 'ExperienceRequired' column to keep only valid ranges\n",
    "def clean_experience(exp):\n",
    "    if re.match(r'\\d+\\s+[a-z]+', exp):  # Handle dates like \"2 june\" or \"3 aug\"\n",
    "        return None, None  # Remove rows with dates\n",
    "    exp = re.sub(r'\\D', ' ', exp)\n",
    "    exp = exp.strip().split()\n",
    "    if len(exp) == 1:\n",
    "        return int(exp[0]), int(exp[0])  # If single value, set as min and max\n",
    "    elif len(exp) == 2:\n",
    "        return int(exp[0]), int(exp[1])  # If range, set as min and max\n",
    "    return None, None  # Invalid format\n",
    "\n",
    "# Apply the cleaning function to 'ExperienceRequired' column and split into min and max columns\n",
    "df[['MinExperience', 'MaxExperience']] = df['ExperienceRequired'].apply(lambda x: pd.Series(clean_experience(x)))\n",
    "\n",
    "# Calculate the median of available cleaned experience values\n",
    "cleaned_experiences = df['MinExperience'].dropna()  # You can use 'MaxExperience' as well\n",
    "median_experience = cleaned_experiences.median()\n",
    "\n",
    "# Impute missing values with the calculated median\n",
    "df['MinExperience'].fillna(median_experience, inplace=True)\n",
    "df['MaxExperience'].fillna(median_experience, inplace=True)\n",
    "\n",
    "# Drop rows with None values (dates or unparseable entries)\n",
    "df.dropna(subset=['MinExperience', 'MaxExperience'], inplace=True)\n"
   ]
  },
  {
   "cell_type": "code",
   "execution_count": null,
   "id": "ea6d4eb7",
   "metadata": {},
   "outputs": [],
   "source": [
    "df.head()"
   ]
  },
  {
   "cell_type": "code",
   "execution_count": null,
   "id": "227083d4",
   "metadata": {},
   "outputs": [],
   "source": [
    "df=df.drop('ExperienceRequired',axis=1)\n",
    "df=df.reset_index(drop=True)"
   ]
  },
  {
   "cell_type": "code",
   "execution_count": null,
   "id": "5a011cda",
   "metadata": {},
   "outputs": [],
   "source": [
    "df.head()"
   ]
  },
  {
   "cell_type": "code",
   "execution_count": null,
   "id": "aed73c1d",
   "metadata": {},
   "outputs": [],
   "source": [
    "df.shape"
   ]
  },
  {
   "cell_type": "code",
   "execution_count": null,
   "id": "b08f10c6",
   "metadata": {},
   "outputs": [],
   "source": [
    "df.columns"
   ]
  },
  {
   "cell_type": "code",
   "execution_count": null,
   "id": "cd174a17",
   "metadata": {},
   "outputs": [],
   "source": [
    "df['MinSalary'].value_counts()"
   ]
  },
  {
   "cell_type": "code",
   "execution_count": null,
   "id": "5bd0d380",
   "metadata": {},
   "outputs": [],
   "source": [
    "max_salary_column = df['MaxSalary'].values.reshape(-1, 1)  # Reshape to create a 2D array\n",
    "min_salary_column = df['MinSalary'].values.reshape(-1, 1)  # Reshape to create a 2D array\n"
   ]
  },
  {
   "cell_type": "code",
   "execution_count": null,
   "id": "308c9105",
   "metadata": {},
   "outputs": [],
   "source": [
    "max_salary_column.shape\n",
    "min_salary_column.shape"
   ]
  },
  {
   "cell_type": "code",
   "execution_count": null,
   "id": "b44a2799",
   "metadata": {},
   "outputs": [],
   "source": [
    "from sklearn.impute import SimpleImputer\n",
    "imputer = SimpleImputer(strategy='mean')\n",
    "min_salary_imputed = imputer.fit_transform(min_salary_column)\n",
    "\n"
   ]
  },
  {
   "cell_type": "code",
   "execution_count": null,
   "id": "4b80baa2",
   "metadata": {},
   "outputs": [],
   "source": [
    "df['MinSalary'] = min_salary_imputed\n",
    "\n",
    "# df.head()\n",
    "# min_salary_imputed"
   ]
  },
  {
   "cell_type": "code",
   "execution_count": null,
   "id": "ec53c4e1",
   "metadata": {},
   "outputs": [],
   "source": [
    "from sklearn.impute import SimpleImputer\n",
    "imputer = SimpleImputer(strategy='mean')\n",
    "max_salary_imputed = imputer.fit_transform(max_salary_column)\n",
    "\n"
   ]
  },
  {
   "cell_type": "code",
   "execution_count": null,
   "id": "f1f0ac75",
   "metadata": {},
   "outputs": [],
   "source": [
    "df['MaxSalary'] = max_salary_imputed\n",
    "\n",
    "max_salary_imputed\n"
   ]
  },
  {
   "cell_type": "code",
   "execution_count": null,
   "id": "aaa3a8fd",
   "metadata": {},
   "outputs": [],
   "source": [
    "df.isna().sum()    ## here as you can see our dataset has no nan values and it is cleaned all missing values imputed with mean"
   ]
  },
  {
   "cell_type": "code",
   "execution_count": null,
   "id": "59675d83",
   "metadata": {},
   "outputs": [],
   "source": [
    "df.describe()"
   ]
  },
  {
   "cell_type": "code",
   "execution_count": null,
   "id": "5d1cb16e",
   "metadata": {
    "scrolled": true
   },
   "outputs": [],
   "source": [
    "df.info()"
   ]
  },
  {
   "cell_type": "code",
   "execution_count": null,
   "id": "f4c5b9d6",
   "metadata": {},
   "outputs": [],
   "source": [
    "df.isna().sum()"
   ]
  },
  {
   "cell_type": "code",
   "execution_count": null,
   "id": "2b06cfa3",
   "metadata": {},
   "outputs": [],
   "source": [
    "df.head()"
   ]
  },
  {
   "cell_type": "code",
   "execution_count": null,
   "id": "09b6e45a",
   "metadata": {},
   "outputs": [],
   "source": [
    "df['AvgSalary'] = df['AvgSalary'].str.replace(',', '').astype(int)"
   ]
  },
  {
   "cell_type": "code",
   "execution_count": null,
   "id": "41f491b8",
   "metadata": {},
   "outputs": [],
   "source": [
    "df.info()"
   ]
  },
  {
   "cell_type": "code",
   "execution_count": null,
   "id": "f039d31f",
   "metadata": {},
   "outputs": [],
   "source": [
    "df.head()"
   ]
  },
  {
   "cell_type": "code",
   "execution_count": null,
   "id": "90b40d87",
   "metadata": {},
   "outputs": [],
   "source": [
    "df['AvgSalary'].sample"
   ]
  },
  {
   "cell_type": "code",
   "execution_count": null,
   "id": "1daf35ee",
   "metadata": {},
   "outputs": [],
   "source": [
    "df['Company'] = df['Company'].str.strip().str.lower()\n"
   ]
  },
  {
   "cell_type": "code",
   "execution_count": null,
   "id": "a08c44cb",
   "metadata": {},
   "outputs": [],
   "source": [
    "df.head()"
   ]
  },
  {
   "cell_type": "code",
   "execution_count": null,
   "id": "2c7fd6f1",
   "metadata": {},
   "outputs": [],
   "source": [
    "unique_job_profiles = df['Job Profile'].unique()\n",
    "for i in unique_job_profiles:\n",
    "    print(i)\n"
   ]
  },
  {
   "cell_type": "markdown",
   "id": "2808a6fb",
   "metadata": {},
   "source": [
    "# EDA  - Univariate Analysis"
   ]
  },
  {
   "cell_type": "code",
   "execution_count": null,
   "id": "4d315ac2",
   "metadata": {},
   "outputs": [],
   "source": [
    "import matplotlib.pyplot as plt\n",
    "import seaborn as sns\n",
    "\n",
    "plt.figure(figsize=(10, 8))\n",
    "top_n = 25  # Choose the number of top categories to display\n",
    "top_job_profiles = df['Job Profile'].value_counts().head(top_n)\n",
    "sns.barplot(x=top_job_profiles.values, y=top_job_profiles.index)\n",
    "plt.title(f'Top {top_n} Job Profiles')\n",
    "plt.xlabel('Frequency')\n",
    "plt.ylabel('Job Profile')\n",
    "plt.tight_layout()\n",
    "plt.show()\n"
   ]
  },
  {
   "cell_type": "code",
   "execution_count": null,
   "id": "4113a909",
   "metadata": {},
   "outputs": [],
   "source": [
    "# Clean up company names by removing leading/trailing spaces and making them lowercase\n",
    "df['Company'] = df['Company'].str.strip().str.lower()\n",
    "\n",
    "plt.figure(figsize=(12, 8))  # Increase figure size for better spacing\n",
    "top_n = 15  # Choose the number of top companies to display\n",
    "top_companies = df['Company'].value_counts().head(top_n)\n",
    "sns.barplot(x=top_companies.index, y=top_companies.values)\n",
    "plt.title(f'Top {top_n} Companies')\n",
    "plt.xlabel('Company')\n",
    "plt.ylabel('Frequency')\n",
    "plt.xticks(rotation=45, ha='right')  # Rotate and align the labels for better readability\n",
    "plt.tight_layout()\n",
    "plt.show()\n"
   ]
  },
  {
   "cell_type": "code",
   "execution_count": null,
   "id": "594ed85f",
   "metadata": {},
   "outputs": [],
   "source": [
    "import matplotlib.pyplot as plt\n",
    "import seaborn as sns\n",
    "\n",
    "plt.figure(figsize=(10, 6))\n",
    "sns.histplot(data=df, x='AvgSalary', bins=20, kde=True)\n",
    "plt.title('Distribution of Average Salary')\n",
    "plt.xlabel('Average Salary (INR)')\n",
    "plt.ylabel('Frequency')\n",
    "plt.show()\n"
   ]
  },
  {
   "cell_type": "code",
   "execution_count": null,
   "id": "e85d14c0",
   "metadata": {},
   "outputs": [],
   "source": [
    "plt.figure(figsize=(10, 6))\n",
    "plt.hist(df['MinExperience'], bins=20, edgecolor='black')\n",
    "plt.title('Distribution of MinExperience')\n",
    "plt.xlabel('MinExperience')\n",
    "plt.ylabel('Frequency')\n",
    "plt.tight_layout()\n",
    "plt.show()\n",
    "\n",
    "plt.figure(figsize=(10, 6))\n",
    "plt.hist(df['MaxExperience'], bins=20, edgecolor='black')\n",
    "plt.title('Distribution of MaxExperience')\n",
    "plt.xlabel('MaxExperience')\n",
    "plt.ylabel('Frequency')\n",
    "plt.tight_layout()\n",
    "plt.show()\n"
   ]
  },
  {
   "cell_type": "markdown",
   "id": "3ba191ac",
   "metadata": {},
   "source": [
    "# EDA- Bivariate analysis"
   ]
  },
  {
   "cell_type": "code",
   "execution_count": null,
   "id": "3f7b4007",
   "metadata": {},
   "outputs": [],
   "source": [
    "df.plot.scatter(x='MinExperience', y='AvgSalary', figsize=(10, 6))\n",
    "plt.title('Relationship between Min Experience and Average Salary')\n",
    "plt.xlabel('Minimum Experience (years)')\n",
    "plt.ylabel('Average Salary (INR)')\n",
    "plt.show()\n"
   ]
  },
  {
   "cell_type": "code",
   "execution_count": null,
   "id": "9336ce34",
   "metadata": {},
   "outputs": [],
   "source": [
    "plt.figure(figsize=(12, 8))\n",
    "sns.scatterplot(x='MinExperience', y='AvgSalary', data=df, hue='Job Profile')\n",
    "plt.title('Relationship between Min Experience and Average Salary')\n",
    "plt.xlabel('Minimum Experience (years)')\n",
    "plt.ylabel('Average Salary (INR)')\n",
    "plt.legend()\n",
    "plt.tight_layout()\n",
    "plt.show()\n"
   ]
  },
  {
   "cell_type": "code",
   "execution_count": null,
   "id": "368a9758",
   "metadata": {},
   "outputs": [],
   "source": [
    "plt.figure(figsize=(12, 8))\n",
    "top_n = 15  # Choose the number of top companies to display\n",
    "top_companies = df.groupby('Company')['MaxSalary'].mean().sort_values(ascending=False).head(top_n)\n",
    "top_companies.plot(kind='bar')\n",
    "plt.title(f'Top {top_n} Companies with Highest maximum Salary')\n",
    "plt.xlabel('Company')\n",
    "plt.ylabel('Maximum Salary (INR)')\n",
    "plt.xticks(rotation=45)\n",
    "plt.tight_layout()\n",
    "plt.show()\n"
   ]
  },
  {
   "cell_type": "code",
   "execution_count": null,
   "id": "c6f9179c",
   "metadata": {},
   "outputs": [],
   "source": [
    "top_n = 15  # Choose the number of top job profiles to display\n",
    "top_max_salary_by_job = df.groupby('Job Profile')['MaxSalary'].max().sort_values(ascending=False).head(top_n)\n",
    "\n",
    "plt.figure(figsize=(12, 8))\n",
    "ax = sns.barplot(x=top_max_salary_by_job.index, y=top_max_salary_by_job.values)\n",
    "plt.title(f'Top {top_n} Job Profiles by Maximum Salary', pad=20)\n",
    "plt.xlabel('Job Profile')\n",
    "plt.ylabel('Maximum Salary (INR)')\n",
    "plt.xticks(rotation=45, ha='right', rotation_mode='anchor')  # Adjust rotation\n",
    "plt.tight_layout()\n",
    "plt.show()\n"
   ]
  },
  {
   "cell_type": "code",
   "execution_count": null,
   "id": "7ae997e0",
   "metadata": {},
   "outputs": [],
   "source": [
    "# Grouping and Aggregation\n",
    "avg_salary_by_job = df.groupby('Job Profile')['AvgSalary'].mean()\n",
    "\n",
    "# Sorting in descending order\n",
    "avg_salary_by_job = avg_salary_by_job.sort_values(ascending=False)\n",
    "\n",
    "top_n = 15  # Choose the number of top job profiles to display\n",
    "top_avg_salary_by_job = avg_salary_by_job.head(top_n)\n",
    "\n",
    "plt.figure(figsize=(12, 8))\n",
    "sns.barplot(x=top_avg_salary_by_job.index, y=top_avg_salary_by_job.values)\n",
    "plt.title(f'Top {top_n} Job Profiles by Average Salary',pad=20)\n",
    "plt.xlabel('Job Profile')\n",
    "plt.ylabel('Average Salary (INR)')\n",
    "plt.xticks(rotation=45, ha='right', rotation_mode='anchor')\n",
    "plt.tight_layout()\n",
    "plt.show()\n"
   ]
  },
  {
   "cell_type": "code",
   "execution_count": null,
   "id": "3fc6b88b",
   "metadata": {},
   "outputs": [],
   "source": [
    "import numpy as np\n",
    "\n",
    "# Choose the number of top job profiles to display\n",
    "top_n = 10\n",
    "\n",
    "# Get the top job profiles\n",
    "top_job_profiles = avg_salary_by_job.head(top_n).index\n",
    "\n",
    "# Filter the data for the top job profiles\n",
    "top_profiles_data = df[df['Job Profile'].isin(top_job_profiles)]\n",
    "\n",
    "plt.figure(figsize=(12, 8))\n",
    "sns.boxplot(data=top_profiles_data, x='Company', y='AvgSalary')\n",
    "plt.title(f'Companies Paying Highest Salaries for Top {top_n} Job Profiles')\n",
    "plt.xlabel('Company')\n",
    "plt.ylabel('Average Salary (INR)')\n",
    "plt.xticks(rotation=45, ha='right', rotation_mode='anchor')  # Adjust rotation\n",
    "plt.tight_layout()\n",
    "plt.show()\n"
   ]
  },
  {
   "cell_type": "code",
   "execution_count": null,
   "id": "fc709290",
   "metadata": {},
   "outputs": [],
   "source": [
    "import matplotlib.pyplot as plt\n",
    "import seaborn as sns\n",
    "\n",
    "# Assuming 'df' is your DataFrame with columns 'Job Profile', 'Company', and 'AvgSalary'\n",
    "\n",
    "# Filter and sort the top job profiles\n",
    "top_job_profiles = df['Job Profile'].value_counts().head(10).index\n",
    "\n",
    "# Create facet grid plots for each job profile\n",
    "g = sns.FacetGrid(df[df['Job Profile'].isin(top_job_profiles)], col='Job Profile', col_wrap=5, height=4, sharey=False)\n",
    "g.map(sns.violinplot, 'Company', 'AvgSalary', order=top_companies.index)\n",
    "g.set_xticklabels(rotation=45)\n",
    "plt.tight_layout()\n",
    "plt.show()\n"
   ]
  },
  {
   "cell_type": "code",
   "execution_count": null,
   "id": "04c18f36",
   "metadata": {},
   "outputs": [],
   "source": [
    "import matplotlib.pyplot as plt\n",
    "import seaborn as sns\n",
    "\n",
    "# Assuming 'df' is your DataFrame with columns 'Job Profile', 'Company', and 'AvgSalary'\n",
    "\n",
    "# Filter and sort the top job profiles\n",
    "top_job_profiles = df['Job Profile'].value_counts().head(10).index\n",
    "\n",
    "# Create facet grid plots for each job profile\n",
    "g = sns.FacetGrid(df[df['Job Profile'].isin(top_job_profiles)], col='Job Profile', col_wrap=5, height=4, sharey=False)\n",
    "g.map(sns.violinplot, 'Company', 'AvgSalary')\n",
    "g.set_xticklabels(rotation=45)\n",
    "plt.tight_layout()\n",
    "plt.show()\n"
   ]
  },
  {
   "cell_type": "code",
   "execution_count": null,
   "id": "6030672b",
   "metadata": {},
   "outputs": [],
   "source": [
    "import seaborn as sns\n",
    "import matplotlib.pyplot as plt\n",
    "\n",
    "# Choose the number of top job profiles to display\n",
    "top_n = 10\n",
    "\n",
    "# Get the top job profiles\n",
    "top_job_profiles = avg_salary_by_job.head(top_n).index\n",
    "\n",
    "# Filter the data for the top job profiles\n",
    "top_profiles_data = df[df['Job Profile'].isin(top_job_profiles)]\n",
    "\n",
    "plt.figure(figsize=(12, 8))\n",
    "sns.violinplot(data=top_profiles_data, x='Company', y='AvgSalary')\n",
    "plt.title(f'Companies Paying Highest Salaries for Top {top_n} Job Profiles')\n",
    "plt.xlabel('Company')\n",
    "plt.ylabel('Average Salary (INR)')\n",
    "plt.xticks(rotation=45, ha='right', rotation_mode='anchor')  # Adjust rotation\n",
    "plt.tight_layout()\n",
    "plt.show()\n"
   ]
  },
  {
   "cell_type": "code",
   "execution_count": null,
   "id": "105ee38e",
   "metadata": {},
   "outputs": [],
   "source": [
    "import seaborn as sns\n",
    "import matplotlib.pyplot as plt\n",
    "\n",
    "# Choose the number of top job profiles to display\n",
    "top_n = 10\n",
    "\n",
    "# Get the top job profiles\n",
    "top_job_profiles = avg_salary_by_job.head(top_n).index\n",
    "\n",
    "# Filter the data for the top job profiles\n",
    "top_profiles_data = df[df['Job Profile'].isin(top_job_profiles)]\n",
    "\n",
    "plt.figure(figsize=(12, 8))\n",
    "sns.violinplot(\n",
    "    data=top_profiles_data,\n",
    "    x='Job Profile',\n",
    "    y='AvgSalary',\n",
    "    hue='Company',\n",
    ")\n",
    "plt.title(f'Companies Paying Highest Salaries for Top {top_n} Job Profiles')\n",
    "plt.xlabel('Job Profile')\n",
    "plt.ylabel('Average Salary (INR)')\n",
    "plt.xticks(rotation=45, ha='right', rotation_mode='anchor')  # Adjust rotation\n",
    "plt.tight_layout()\n",
    "plt.show()\n"
   ]
  },
  {
   "cell_type": "code",
   "execution_count": null,
   "id": "0870e419",
   "metadata": {},
   "outputs": [],
   "source": [
    "df.head()"
   ]
  }
 ],
 "metadata": {
  "kernelspec": {
   "display_name": "Python 3 (ipykernel)",
   "language": "python",
   "name": "python3"
  },
  "language_info": {
   "codemirror_mode": {
    "name": "ipython",
    "version": 3
   },
   "file_extension": ".py",
   "mimetype": "text/x-python",
   "name": "python",
   "nbconvert_exporter": "python",
   "pygments_lexer": "ipython3",
   "version": "3.10.5"
  }
 },
 "nbformat": 4,
 "nbformat_minor": 5
}
