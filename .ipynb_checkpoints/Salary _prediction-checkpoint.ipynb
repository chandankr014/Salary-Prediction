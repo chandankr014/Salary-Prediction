{
 "cells": [
  {
   "cell_type": "code",
   "execution_count": 1,
   "id": "f31978e7",
   "metadata": {},
   "outputs": [],
   "source": [
    "import numpy as np\n",
    "import pandas as pd"
   ]
  },
  {
   "cell_type": "code",
   "execution_count": 2,
   "id": "13f9bd42",
   "metadata": {},
   "outputs": [],
   "source": [
    "df = pd.read_csv('dataset_scrap_v2A.csv')"
   ]
  },
  {
   "cell_type": "code",
   "execution_count": 3,
   "id": "cea24e98",
   "metadata": {},
   "outputs": [],
   "source": [
    "# df = df[:1000]"
   ]
  },
  {
   "cell_type": "code",
   "execution_count": 4,
   "id": "0ede548c",
   "metadata": {},
   "outputs": [
    {
     "data": {
      "text/html": [
       "<div>\n",
       "<style scoped>\n",
       "    .dataframe tbody tr th:only-of-type {\n",
       "        vertical-align: middle;\n",
       "    }\n",
       "\n",
       "    .dataframe tbody tr th {\n",
       "        vertical-align: top;\n",
       "    }\n",
       "\n",
       "    .dataframe thead th {\n",
       "        text-align: right;\n",
       "    }\n",
       "</style>\n",
       "<table border=\"1\" class=\"dataframe\">\n",
       "  <thead>\n",
       "    <tr style=\"text-align: right;\">\n",
       "      <th></th>\n",
       "      <th>Unnamed: 0</th>\n",
       "      <th>Job Profile</th>\n",
       "      <th>Company</th>\n",
       "      <th>ExperienceRequired</th>\n",
       "      <th>AvgSalary</th>\n",
       "      <th>MinSalary</th>\n",
       "      <th>MaxSalary</th>\n",
       "    </tr>\n",
       "  </thead>\n",
       "  <tbody>\n",
       "    <tr>\n",
       "      <th>0</th>\n",
       "      <td>0</td>\n",
       "      <td>System Engineer</td>\n",
       "      <td>tcs</td>\n",
       "      <td>0-10</td>\n",
       "      <td>5,94,125</td>\n",
       "      <td>2.0</td>\n",
       "      <td>11.2</td>\n",
       "    </tr>\n",
       "    <tr>\n",
       "      <th>1</th>\n",
       "      <td>1</td>\n",
       "      <td>IT Analyst</td>\n",
       "      <td>tcs</td>\n",
       "      <td>3-11</td>\n",
       "      <td>9,05,500</td>\n",
       "      <td>3.4</td>\n",
       "      <td>20.5</td>\n",
       "    </tr>\n",
       "    <tr>\n",
       "      <th>2</th>\n",
       "      <td>2</td>\n",
       "      <td>AST Consultant</td>\n",
       "      <td>tcs</td>\n",
       "      <td>6-15</td>\n",
       "      <td>14,59,521</td>\n",
       "      <td>4.0</td>\n",
       "      <td>29.8</td>\n",
       "    </tr>\n",
       "    <tr>\n",
       "      <th>3</th>\n",
       "      <td>3</td>\n",
       "      <td>Assistant System Engineer</td>\n",
       "      <td>tcs</td>\n",
       "      <td>0-4</td>\n",
       "      <td>3,95,563</td>\n",
       "      <td>2.5</td>\n",
       "      <td>5.9</td>\n",
       "    </tr>\n",
       "    <tr>\n",
       "      <th>4</th>\n",
       "      <td>4</td>\n",
       "      <td>Associate Consultant</td>\n",
       "      <td>tcs</td>\n",
       "      <td>4-21</td>\n",
       "      <td>18,13,704</td>\n",
       "      <td>3.8</td>\n",
       "      <td>34.2</td>\n",
       "    </tr>\n",
       "  </tbody>\n",
       "</table>\n",
       "</div>"
      ],
      "text/plain": [
       "   Unnamed: 0                Job Profile Company ExperienceRequired  \\\n",
       "0           0            System Engineer     tcs               0-10   \n",
       "1           1                 IT Analyst     tcs               3-11   \n",
       "2           2             AST Consultant     tcs               6-15   \n",
       "3           3  Assistant System Engineer     tcs                0-4   \n",
       "4           4       Associate Consultant     tcs               4-21   \n",
       "\n",
       "   AvgSalary  MinSalary  MaxSalary  \n",
       "0   5,94,125        2.0       11.2  \n",
       "1   9,05,500        3.4       20.5  \n",
       "2  14,59,521        4.0       29.8  \n",
       "3   3,95,563        2.5        5.9  \n",
       "4  18,13,704        3.8       34.2  "
      ]
     },
     "execution_count": 4,
     "metadata": {},
     "output_type": "execute_result"
    }
   ],
   "source": [
    "df.head()"
   ]
  },
  {
   "cell_type": "code",
   "execution_count": 7,
   "id": "7bcc8ae3",
   "metadata": {},
   "outputs": [
    {
     "data": {
      "text/plain": [
       "Job Profile             0\n",
       "Company                 0\n",
       "ExperienceRequired      0\n",
       "AvgSalary               0\n",
       "MinSalary             699\n",
       "MaxSalary             699\n",
       "dtype: int64"
      ]
     },
     "execution_count": 7,
     "metadata": {},
     "output_type": "execute_result"
    }
   ],
   "source": [
    "df.isna().sum()"
   ]
  },
  {
   "cell_type": "code",
   "execution_count": 15,
   "id": "b08f10c6",
   "metadata": {},
   "outputs": [
    {
     "data": {
      "text/plain": [
       "Index(['Job Profile', 'Company', 'AvgSalary', 'MinSalary', 'MaxSalary',\n",
       "       'MinExperience', 'MaxExperience'],\n",
       "      dtype='object')"
      ]
     },
     "execution_count": 15,
     "metadata": {},
     "output_type": "execute_result"
    }
   ],
   "source": [
    "df.columns"
   ]
  },
  {
   "cell_type": "code",
   "execution_count": 24,
   "id": "59675d83",
   "metadata": {},
   "outputs": [
    {
     "data": {
      "text/html": [
       "<div>\n",
       "<style scoped>\n",
       "    .dataframe tbody tr th:only-of-type {\n",
       "        vertical-align: middle;\n",
       "    }\n",
       "\n",
       "    .dataframe tbody tr th {\n",
       "        vertical-align: top;\n",
       "    }\n",
       "\n",
       "    .dataframe thead th {\n",
       "        text-align: right;\n",
       "    }\n",
       "</style>\n",
       "<table border=\"1\" class=\"dataframe\">\n",
       "  <thead>\n",
       "    <tr style=\"text-align: right;\">\n",
       "      <th></th>\n",
       "      <th>MinSalary</th>\n",
       "      <th>MaxSalary</th>\n",
       "      <th>MinExperience</th>\n",
       "      <th>MaxExperience</th>\n",
       "    </tr>\n",
       "  </thead>\n",
       "  <tbody>\n",
       "    <tr>\n",
       "      <th>count</th>\n",
       "      <td>5000.000000</td>\n",
       "      <td>5000.000000</td>\n",
       "      <td>5000.000000</td>\n",
       "      <td>5000.000000</td>\n",
       "    </tr>\n",
       "    <tr>\n",
       "      <th>mean</th>\n",
       "      <td>3.307045</td>\n",
       "      <td>12.017996</td>\n",
       "      <td>2.170800</td>\n",
       "      <td>9.223400</td>\n",
       "    </tr>\n",
       "    <tr>\n",
       "      <th>std</th>\n",
       "      <td>2.647759</td>\n",
       "      <td>9.388879</td>\n",
       "      <td>2.938597</td>\n",
       "      <td>4.432541</td>\n",
       "    </tr>\n",
       "    <tr>\n",
       "      <th>min</th>\n",
       "      <td>1.000000</td>\n",
       "      <td>2.300000</td>\n",
       "      <td>0.000000</td>\n",
       "      <td>1.000000</td>\n",
       "    </tr>\n",
       "    <tr>\n",
       "      <th>25%</th>\n",
       "      <td>1.800000</td>\n",
       "      <td>5.600000</td>\n",
       "      <td>0.000000</td>\n",
       "      <td>6.000000</td>\n",
       "    </tr>\n",
       "    <tr>\n",
       "      <th>50%</th>\n",
       "      <td>2.700000</td>\n",
       "      <td>9.650000</td>\n",
       "      <td>1.000000</td>\n",
       "      <td>8.000000</td>\n",
       "    </tr>\n",
       "    <tr>\n",
       "      <th>75%</th>\n",
       "      <td>3.500000</td>\n",
       "      <td>13.500000</td>\n",
       "      <td>3.000000</td>\n",
       "      <td>12.000000</td>\n",
       "    </tr>\n",
       "    <tr>\n",
       "      <th>max</th>\n",
       "      <td>30.000000</td>\n",
       "      <td>99.000000</td>\n",
       "      <td>31.000000</td>\n",
       "      <td>33.000000</td>\n",
       "    </tr>\n",
       "  </tbody>\n",
       "</table>\n",
       "</div>"
      ],
      "text/plain": [
       "         MinSalary    MaxSalary  MinExperience  MaxExperience\n",
       "count  5000.000000  5000.000000    5000.000000    5000.000000\n",
       "mean      3.307045    12.017996       2.170800       9.223400\n",
       "std       2.647759     9.388879       2.938597       4.432541\n",
       "min       1.000000     2.300000       0.000000       1.000000\n",
       "25%       1.800000     5.600000       0.000000       6.000000\n",
       "50%       2.700000     9.650000       1.000000       8.000000\n",
       "75%       3.500000    13.500000       3.000000      12.000000\n",
       "max      30.000000    99.000000      31.000000      33.000000"
      ]
     },
     "execution_count": 24,
     "metadata": {},
     "output_type": "execute_result"
    }
   ],
   "source": [
    "df.describe()"
   ]
  },
  {
   "cell_type": "code",
   "execution_count": 25,
   "id": "5d1cb16e",
   "metadata": {
    "scrolled": true
   },
   "outputs": [
    {
     "name": "stdout",
     "output_type": "stream",
     "text": [
      "<class 'pandas.core.frame.DataFrame'>\n",
      "RangeIndex: 5000 entries, 0 to 4999\n",
      "Data columns (total 7 columns):\n",
      " #   Column         Non-Null Count  Dtype  \n",
      "---  ------         --------------  -----  \n",
      " 0   Job Profile    5000 non-null   object \n",
      " 1   Company        5000 non-null   object \n",
      " 2   AvgSalary      5000 non-null   object \n",
      " 3   MinSalary      5000 non-null   float64\n",
      " 4   MaxSalary      5000 non-null   float64\n",
      " 5   MinExperience  5000 non-null   float64\n",
      " 6   MaxExperience  5000 non-null   float64\n",
      "dtypes: float64(4), object(3)\n",
      "memory usage: 273.6+ KB\n"
     ]
    }
   ],
   "source": [
    "df.info()"
   ]
  },
  {
   "cell_type": "code",
   "execution_count": 26,
   "id": "f4c5b9d6",
   "metadata": {},
   "outputs": [
    {
     "data": {
      "text/plain": [
       "Job Profile      0\n",
       "Company          0\n",
       "AvgSalary        0\n",
       "MinSalary        0\n",
       "MaxSalary        0\n",
       "MinExperience    0\n",
       "MaxExperience    0\n",
       "dtype: int64"
      ]
     },
     "execution_count": 26,
     "metadata": {},
     "output_type": "execute_result"
    }
   ],
   "source": [
    "df.isna().sum()"
   ]
  },
  {
   "cell_type": "code",
   "execution_count": 27,
   "id": "2b06cfa3",
   "metadata": {},
   "outputs": [
    {
     "data": {
      "text/html": [
       "<div>\n",
       "<style scoped>\n",
       "    .dataframe tbody tr th:only-of-type {\n",
       "        vertical-align: middle;\n",
       "    }\n",
       "\n",
       "    .dataframe tbody tr th {\n",
       "        vertical-align: top;\n",
       "    }\n",
       "\n",
       "    .dataframe thead th {\n",
       "        text-align: right;\n",
       "    }\n",
       "</style>\n",
       "<table border=\"1\" class=\"dataframe\">\n",
       "  <thead>\n",
       "    <tr style=\"text-align: right;\">\n",
       "      <th></th>\n",
       "      <th>Job Profile</th>\n",
       "      <th>Company</th>\n",
       "      <th>AvgSalary</th>\n",
       "      <th>MinSalary</th>\n",
       "      <th>MaxSalary</th>\n",
       "      <th>MinExperience</th>\n",
       "      <th>MaxExperience</th>\n",
       "    </tr>\n",
       "  </thead>\n",
       "  <tbody>\n",
       "    <tr>\n",
       "      <th>0</th>\n",
       "      <td>System Engineer</td>\n",
       "      <td>tcs</td>\n",
       "      <td>5,94,125</td>\n",
       "      <td>2.0</td>\n",
       "      <td>11.2</td>\n",
       "      <td>0.0</td>\n",
       "      <td>10.0</td>\n",
       "    </tr>\n",
       "    <tr>\n",
       "      <th>1</th>\n",
       "      <td>IT Analyst</td>\n",
       "      <td>tcs</td>\n",
       "      <td>9,05,500</td>\n",
       "      <td>3.4</td>\n",
       "      <td>20.5</td>\n",
       "      <td>3.0</td>\n",
       "      <td>11.0</td>\n",
       "    </tr>\n",
       "    <tr>\n",
       "      <th>2</th>\n",
       "      <td>AST Consultant</td>\n",
       "      <td>tcs</td>\n",
       "      <td>14,59,521</td>\n",
       "      <td>4.0</td>\n",
       "      <td>29.8</td>\n",
       "      <td>6.0</td>\n",
       "      <td>15.0</td>\n",
       "    </tr>\n",
       "    <tr>\n",
       "      <th>3</th>\n",
       "      <td>Assistant System Engineer</td>\n",
       "      <td>tcs</td>\n",
       "      <td>3,95,563</td>\n",
       "      <td>2.5</td>\n",
       "      <td>5.9</td>\n",
       "      <td>0.0</td>\n",
       "      <td>4.0</td>\n",
       "    </tr>\n",
       "    <tr>\n",
       "      <th>4</th>\n",
       "      <td>Associate Consultant</td>\n",
       "      <td>tcs</td>\n",
       "      <td>18,13,704</td>\n",
       "      <td>3.8</td>\n",
       "      <td>34.2</td>\n",
       "      <td>4.0</td>\n",
       "      <td>21.0</td>\n",
       "    </tr>\n",
       "  </tbody>\n",
       "</table>\n",
       "</div>"
      ],
      "text/plain": [
       "                 Job Profile Company  AvgSalary  MinSalary  MaxSalary  \\\n",
       "0            System Engineer     tcs   5,94,125        2.0       11.2   \n",
       "1                 IT Analyst     tcs   9,05,500        3.4       20.5   \n",
       "2             AST Consultant     tcs  14,59,521        4.0       29.8   \n",
       "3  Assistant System Engineer     tcs   3,95,563        2.5        5.9   \n",
       "4       Associate Consultant     tcs  18,13,704        3.8       34.2   \n",
       "\n",
       "   MinExperience  MaxExperience  \n",
       "0            0.0           10.0  \n",
       "1            3.0           11.0  \n",
       "2            6.0           15.0  \n",
       "3            0.0            4.0  \n",
       "4            4.0           21.0  "
      ]
     },
     "execution_count": 27,
     "metadata": {},
     "output_type": "execute_result"
    }
   ],
   "source": [
    "df.head()"
   ]
  },
  {
   "cell_type": "code",
   "execution_count": 45,
   "id": "7d6927e8",
   "metadata": {},
   "outputs": [],
   "source": [
    "from sklearn.preprocessing import LabelEncoder\n",
    "\n",
    "# Create a LabelEncoder instance\n",
    "label_encoder = LabelEncoder()\n",
    "\n",
    "# Convert categorical columns to numerical using label encoding\n",
    "df['Company_Job'] = label_encoder.fit_transform(df['Job_Company'])\n"
   ]
  },
  {
   "cell_type": "code",
   "execution_count": 66,
   "id": "46293138",
   "metadata": {
    "scrolled": true
   },
   "outputs": [
    {
     "data": {
      "text/html": [
       "<div>\n",
       "<style scoped>\n",
       "    .dataframe tbody tr th:only-of-type {\n",
       "        vertical-align: middle;\n",
       "    }\n",
       "\n",
       "    .dataframe tbody tr th {\n",
       "        vertical-align: top;\n",
       "    }\n",
       "\n",
       "    .dataframe thead th {\n",
       "        text-align: right;\n",
       "    }\n",
       "</style>\n",
       "<table border=\"1\" class=\"dataframe\">\n",
       "  <thead>\n",
       "    <tr style=\"text-align: right;\">\n",
       "      <th></th>\n",
       "      <th>AvgSalary</th>\n",
       "      <th>MinSalary</th>\n",
       "      <th>MaxSalary</th>\n",
       "      <th>AvgExperience</th>\n",
       "      <th>Company_Job</th>\n",
       "    </tr>\n",
       "  </thead>\n",
       "  <tbody>\n",
       "    <tr>\n",
       "      <th>0</th>\n",
       "      <td>594125</td>\n",
       "      <td>2.0</td>\n",
       "      <td>11.2</td>\n",
       "      <td>5.0</td>\n",
       "      <td>4440</td>\n",
       "    </tr>\n",
       "    <tr>\n",
       "      <th>1</th>\n",
       "      <td>905500</td>\n",
       "      <td>3.4</td>\n",
       "      <td>20.5</td>\n",
       "      <td>7.0</td>\n",
       "      <td>1840</td>\n",
       "    </tr>\n",
       "    <tr>\n",
       "      <th>2</th>\n",
       "      <td>1459521</td>\n",
       "      <td>4.0</td>\n",
       "      <td>29.8</td>\n",
       "      <td>10.5</td>\n",
       "      <td>13</td>\n",
       "    </tr>\n",
       "    <tr>\n",
       "      <th>3</th>\n",
       "      <td>395563</td>\n",
       "      <td>2.5</td>\n",
       "      <td>5.9</td>\n",
       "      <td>2.0</td>\n",
       "      <td>396</td>\n",
       "    </tr>\n",
       "    <tr>\n",
       "      <th>4</th>\n",
       "      <td>1813704</td>\n",
       "      <td>3.8</td>\n",
       "      <td>34.2</td>\n",
       "      <td>12.5</td>\n",
       "      <td>448</td>\n",
       "    </tr>\n",
       "  </tbody>\n",
       "</table>\n",
       "</div>"
      ],
      "text/plain": [
       "   AvgSalary  MinSalary  MaxSalary  AvgExperience  Company_Job\n",
       "0     594125        2.0       11.2            5.0         4440\n",
       "1     905500        3.4       20.5            7.0         1840\n",
       "2    1459521        4.0       29.8           10.5           13\n",
       "3     395563        2.5        5.9            2.0          396\n",
       "4    1813704        3.8       34.2           12.5          448"
      ]
     },
     "execution_count": 66,
     "metadata": {},
     "output_type": "execute_result"
    }
   ],
   "source": [
    "df.shape\n",
    "df.head()"
   ]
  },
  {
   "cell_type": "code",
   "execution_count": 48,
   "id": "11a7819c-16d7-4c9f-bf7e-a550bad7e7d1",
   "metadata": {},
   "outputs": [
    {
     "data": {
      "text/plain": [
       "('System Engineer_tcs', 4440)"
      ]
     },
     "execution_count": 48,
     "metadata": {},
     "output_type": "execute_result"
    }
   ],
   "source": [
    "list1 = df['Job_Company'].to_list()\n",
    "list2 = df['Company_Job'].to_list()\n",
    "list1[0], list2[0]"
   ]
  },
  {
   "cell_type": "code",
   "execution_count": 1,
   "id": "5e72eaf5-333c-4e5c-98cf-d3bfc721e791",
   "metadata": {},
   "outputs": [
    {
     "ename": "NameError",
     "evalue": "name 'list1' is not defined",
     "output_type": "error",
     "traceback": [
      "\u001b[1;31m---------------------------------------------------------------------------\u001b[0m",
      "\u001b[1;31mNameError\u001b[0m                                 Traceback (most recent call last)",
      "Cell \u001b[1;32mIn[1], line 3\u001b[0m\n\u001b[0;32m      1\u001b[0m job_label \u001b[38;5;241m=\u001b[39m {}\n\u001b[1;32m----> 3\u001b[0m \u001b[38;5;28;01mfor\u001b[39;00m i \u001b[38;5;129;01min\u001b[39;00m \u001b[38;5;28mrange\u001b[39m(\u001b[38;5;28mlen\u001b[39m(\u001b[43mlist1\u001b[49m)):\n\u001b[0;32m      4\u001b[0m     job_label[list1[i]] \u001b[38;5;241m=\u001b[39m list2[i]\n",
      "\u001b[1;31mNameError\u001b[0m: name 'list1' is not defined"
     ]
    }
   ],
   "source": [
    "job_label = {}\n",
    "\n",
    "for i in range(len(list1)):\n",
    "    job_label[list1[i]] = list2[i]\n",
    "\n"
   ]
  },
  {
   "cell_type": "code",
   "execution_count": null,
   "id": "7ffae5f9-66fb-43dd-bf89-9c2a076360b5",
   "metadata": {},
   "outputs": [],
   "source": [
    "job_label['Team Lead_meesho']\n",
    "len(job_label)"
   ]
  },
  {
   "cell_type": "code",
   "execution_count": 68,
   "id": "3f3e2e94",
   "metadata": {},
   "outputs": [
    {
     "data": {
      "text/html": [
       "<div>\n",
       "<style scoped>\n",
       "    .dataframe tbody tr th:only-of-type {\n",
       "        vertical-align: middle;\n",
       "    }\n",
       "\n",
       "    .dataframe tbody tr th {\n",
       "        vertical-align: top;\n",
       "    }\n",
       "\n",
       "    .dataframe thead th {\n",
       "        text-align: right;\n",
       "    }\n",
       "</style>\n",
       "<table border=\"1\" class=\"dataframe\">\n",
       "  <thead>\n",
       "    <tr style=\"text-align: right;\">\n",
       "      <th></th>\n",
       "      <th>AvgSalary</th>\n",
       "      <th>MinSalary</th>\n",
       "      <th>MaxSalary</th>\n",
       "      <th>AvgExperience</th>\n",
       "      <th>Company_Job</th>\n",
       "    </tr>\n",
       "  </thead>\n",
       "  <tbody>\n",
       "    <tr>\n",
       "      <th>4990</th>\n",
       "      <td>465181</td>\n",
       "      <td>3.6</td>\n",
       "      <td>6.0</td>\n",
       "      <td>3.0</td>\n",
       "      <td>4832</td>\n",
       "    </tr>\n",
       "    <tr>\n",
       "      <th>4991</th>\n",
       "      <td>440774</td>\n",
       "      <td>3.0</td>\n",
       "      <td>6.0</td>\n",
       "      <td>21.0</td>\n",
       "      <td>2137</td>\n",
       "    </tr>\n",
       "    <tr>\n",
       "      <th>4992</th>\n",
       "      <td>342514</td>\n",
       "      <td>2.5</td>\n",
       "      <td>4.1</td>\n",
       "      <td>3.0</td>\n",
       "      <td>1018</td>\n",
       "    </tr>\n",
       "    <tr>\n",
       "      <th>4993</th>\n",
       "      <td>294340</td>\n",
       "      <td>1.5</td>\n",
       "      <td>4.5</td>\n",
       "      <td>4.0</td>\n",
       "      <td>3026</td>\n",
       "    </tr>\n",
       "    <tr>\n",
       "      <th>4994</th>\n",
       "      <td>286318</td>\n",
       "      <td>1.7</td>\n",
       "      <td>4.0</td>\n",
       "      <td>14.0</td>\n",
       "      <td>200</td>\n",
       "    </tr>\n",
       "    <tr>\n",
       "      <th>4995</th>\n",
       "      <td>2634282</td>\n",
       "      <td>15.1</td>\n",
       "      <td>35.0</td>\n",
       "      <td>7.5</td>\n",
       "      <td>4716</td>\n",
       "    </tr>\n",
       "    <tr>\n",
       "      <th>4996</th>\n",
       "      <td>369661</td>\n",
       "      <td>2.5</td>\n",
       "      <td>5.0</td>\n",
       "      <td>4.0</td>\n",
       "      <td>2957</td>\n",
       "    </tr>\n",
       "    <tr>\n",
       "      <th>4997</th>\n",
       "      <td>453259</td>\n",
       "      <td>3.0</td>\n",
       "      <td>6.1</td>\n",
       "      <td>13.0</td>\n",
       "      <td>4084</td>\n",
       "    </tr>\n",
       "    <tr>\n",
       "      <th>4998</th>\n",
       "      <td>516719</td>\n",
       "      <td>2.4</td>\n",
       "      <td>8.0</td>\n",
       "      <td>0.5</td>\n",
       "      <td>4817</td>\n",
       "    </tr>\n",
       "    <tr>\n",
       "      <th>4999</th>\n",
       "      <td>840445</td>\n",
       "      <td>4.2</td>\n",
       "      <td>12.6</td>\n",
       "      <td>3.0</td>\n",
       "      <td>2140</td>\n",
       "    </tr>\n",
       "  </tbody>\n",
       "</table>\n",
       "</div>"
      ],
      "text/plain": [
       "      AvgSalary  MinSalary  MaxSalary  AvgExperience  Company_Job\n",
       "4990     465181        3.6        6.0            3.0         4832\n",
       "4991     440774        3.0        6.0           21.0         2137\n",
       "4992     342514        2.5        4.1            3.0         1018\n",
       "4993     294340        1.5        4.5            4.0         3026\n",
       "4994     286318        1.7        4.0           14.0          200\n",
       "4995    2634282       15.1       35.0            7.5         4716\n",
       "4996     369661        2.5        5.0            4.0         2957\n",
       "4997     453259        3.0        6.1           13.0         4084\n",
       "4998     516719        2.4        8.0            0.5         4817\n",
       "4999     840445        4.2       12.6            3.0         2140"
      ]
     },
     "execution_count": 68,
     "metadata": {},
     "output_type": "execute_result"
    }
   ],
   "source": [
    "file_name = \"job_comp.json\"\n",
    "with open(file_name, 'w') as file:\n",
    "    json.dump(job_, file)"
   ]
  },
  {
   "cell_type": "code",
   "execution_count": 57,
   "id": "62bb6809",
   "metadata": {},
   "outputs": [
    {
     "data": {
      "text/plain": [
       "AvgSalary          int32\n",
       "MinSalary        float64\n",
       "MaxSalary        float64\n",
       "AvgExperience    float64\n",
       "Company_Job        int32\n",
       "dtype: object"
      ]
     },
     "execution_count": 57,
     "metadata": {},
     "output_type": "execute_result"
    }
   ],
   "source": [
    "df.drop('Job_Company',axis=1, inplace=True)\n",
    "\n",
    "df.dtypes"
   ]
  },
  {
   "cell_type": "code",
   "execution_count": 58,
   "id": "8a6e0bbf",
   "metadata": {},
   "outputs": [],
   "source": [
    "X = df.drop('AvgSalary', axis=1)  # Features\n",
    "y = df['AvgSalary']  # Target variable\n"
   ]
  },
  {
   "cell_type": "code",
   "execution_count": 59,
   "id": "4ef90b9b",
   "metadata": {},
   "outputs": [
    {
     "data": {
      "text/html": [
       "<div>\n",
       "<style scoped>\n",
       "    .dataframe tbody tr th:only-of-type {\n",
       "        vertical-align: middle;\n",
       "    }\n",
       "\n",
       "    .dataframe tbody tr th {\n",
       "        vertical-align: top;\n",
       "    }\n",
       "\n",
       "    .dataframe thead th {\n",
       "        text-align: right;\n",
       "    }\n",
       "</style>\n",
       "<table border=\"1\" class=\"dataframe\">\n",
       "  <thead>\n",
       "    <tr style=\"text-align: right;\">\n",
       "      <th></th>\n",
       "      <th>MinSalary</th>\n",
       "      <th>MaxSalary</th>\n",
       "      <th>AvgExperience</th>\n",
       "      <th>Company_Job</th>\n",
       "    </tr>\n",
       "  </thead>\n",
       "  <tbody>\n",
       "    <tr>\n",
       "      <th>0</th>\n",
       "      <td>2.0</td>\n",
       "      <td>11.2</td>\n",
       "      <td>5.0</td>\n",
       "      <td>4440</td>\n",
       "    </tr>\n",
       "    <tr>\n",
       "      <th>1</th>\n",
       "      <td>3.4</td>\n",
       "      <td>20.5</td>\n",
       "      <td>7.0</td>\n",
       "      <td>1840</td>\n",
       "    </tr>\n",
       "    <tr>\n",
       "      <th>2</th>\n",
       "      <td>4.0</td>\n",
       "      <td>29.8</td>\n",
       "      <td>10.5</td>\n",
       "      <td>13</td>\n",
       "    </tr>\n",
       "    <tr>\n",
       "      <th>3</th>\n",
       "      <td>2.5</td>\n",
       "      <td>5.9</td>\n",
       "      <td>2.0</td>\n",
       "      <td>396</td>\n",
       "    </tr>\n",
       "    <tr>\n",
       "      <th>4</th>\n",
       "      <td>3.8</td>\n",
       "      <td>34.2</td>\n",
       "      <td>12.5</td>\n",
       "      <td>448</td>\n",
       "    </tr>\n",
       "  </tbody>\n",
       "</table>\n",
       "</div>"
      ],
      "text/plain": [
       "   MinSalary  MaxSalary  AvgExperience  Company_Job\n",
       "0        2.0       11.2            5.0         4440\n",
       "1        3.4       20.5            7.0         1840\n",
       "2        4.0       29.8           10.5           13\n",
       "3        2.5        5.9            2.0          396\n",
       "4        3.8       34.2           12.5          448"
      ]
     },
     "execution_count": 59,
     "metadata": {},
     "output_type": "execute_result"
    }
   ],
   "source": [
    "X.head()"
   ]
  },
  {
   "cell_type": "code",
   "execution_count": 60,
   "id": "62658117",
   "metadata": {},
   "outputs": [
    {
     "data": {
      "text/plain": [
       "0     594125\n",
       "1     905500\n",
       "2    1459521\n",
       "3     395563\n",
       "4    1813704\n",
       "Name: AvgSalary, dtype: int32"
      ]
     },
     "execution_count": 60,
     "metadata": {},
     "output_type": "execute_result"
    }
   ],
   "source": [
    "y.head()"
   ]
  },
  {
   "cell_type": "code",
   "execution_count": 162,
   "id": "5f321e00",
   "metadata": {},
   "outputs": [
    {
     "data": {
      "text/plain": [
       "array([[0.03448276, 0.09203723, 0.14516129, 0.89660743],\n",
       "       [0.08275862, 0.18821096, 0.20967742, 0.37156704],\n",
       "       [0.10344828, 0.28438469, 0.32258065, 0.0026252 ],\n",
       "       ...,\n",
       "       [0.06896552, 0.03929679, 0.40322581, 0.82471729],\n",
       "       [0.04827586, 0.05894519, 0.        , 0.97273829],\n",
       "       [0.11034483, 0.10651499, 0.08064516, 0.43214863]])"
      ]
     },
     "execution_count": 162,
     "metadata": {},
     "output_type": "execute_result"
    }
   ],
   "source": [
    "from sklearn.preprocessing import MinMaxScaler\n",
    "sclr = MinMaxScaler()\n",
    "X_desired = sclr.fit_transform(X)\n",
    "X_desired"
   ]
  },
  {
   "cell_type": "code",
   "execution_count": 163,
   "id": "f7ab958d",
   "metadata": {},
   "outputs": [
    {
     "name": "stdout",
     "output_type": "stream",
     "text": [
      "[[-0.49369125 -0.08713262 -0.201037    1.37078493]\n",
      " [ 0.0351106   0.90350006  0.37574394 -0.44848466]\n",
      " [ 0.26173997  1.89413275  1.38511059 -1.72687141]\n",
      " ...\n",
      " [-0.11597564 -0.6303828   2.10608677  1.12168494]\n",
      " [-0.342605   -0.42799548 -1.49879411  1.63457902]\n",
      " [ 0.33728309  0.06199488 -0.77781794 -0.23856894]]\n"
     ]
    }
   ],
   "source": [
    "scaler = StandardScaler()\n",
    "X_scaled = scaler.fit_transform(X)\n",
    "print(X_scaled)"
   ]
  },
  {
   "cell_type": "code",
   "execution_count": null,
   "id": "104e00f5",
   "metadata": {},
   "outputs": [],
   "source": []
  },
  {
   "cell_type": "code",
   "execution_count": 69,
   "id": "d903ef66",
   "metadata": {},
   "outputs": [
    {
     "name": "stdout",
     "output_type": "stream",
     "text": [
      "X_train shape: (4000, 4)\n",
      "X_test shape: (1000, 4)\n",
      "y_train shape: (4000,)\n",
      "y_test shape: (1000,)\n"
     ]
    }
   ],
   "source": [
    "from sklearn.model_selection import train_test_split\n",
    "\n",
    "# Splitting the data into training and testing sets\n",
    "X_train, X_test, y_train, y_test = train_test_split(X, y, test_size=0.2, random_state=42)\n",
    "\n",
    "# Check the shapes of the train and test sets\n",
    "print(\"X_train shape:\", X_train.shape)\n",
    "print(\"X_test shape:\", X_test.shape)\n",
    "print(\"y_train shape:\", y_train.shape)\n",
    "print(\"y_test shape:\", y_test.shape)\n"
   ]
  },
  {
   "cell_type": "code",
   "execution_count": 71,
   "id": "f644d751",
   "metadata": {},
   "outputs": [
    {
     "name": "stdout",
     "output_type": "stream",
     "text": [
      "Number of missing values in X_train: \n",
      " MinSalary        0\n",
      "MaxSalary        0\n",
      "AvgExperience    0\n",
      "Company_Job      0\n",
      "dtype: int64\n"
     ]
    }
   ],
   "source": [
    "missing_values = np.isnan(X_train)\n",
    "missing_values_count = np.sum(missing_values)\n",
    "\n",
    "print(\"Number of missing values in X_train: \\n\", missing_values_count)"
   ]
  },
  {
   "cell_type": "markdown",
   "id": "b9a038df",
   "metadata": {},
   "source": [
    "# Correlation analysis"
   ]
  },
  {
   "cell_type": "code",
   "execution_count": 73,
   "id": "46e239d1",
   "metadata": {},
   "outputs": [
    {
     "name": "stdout",
     "output_type": "stream",
     "text": [
      "Linear Regression:\n",
      "Mean Squared Error: 84616606548.19875\n",
      "Mean Absolute Error: 143962.14363490613\n",
      "R-squared: 0.7788261714771468\n",
      "\n",
      "Random Forest Regression:\n",
      "Mean Squared Error: 69669145307.07037\n",
      "Mean Absolute Error: 89062.33931\n",
      "R-squared: 0.8178963654291365\n",
      "\n",
      "Support Vector Regression:\n",
      "Mean Squared Error: 433886034970.263\n",
      "Mean Absolute Error: 374456.7773417686\n",
      "R-squared: -0.1341064054880423\n"
     ]
    }
   ],
   "source": [
    "from sklearn.linear_model import LinearRegression\n",
    "from sklearn.ensemble import RandomForestRegressor\n",
    "from sklearn.svm import SVR\n",
    "from sklearn.metrics import mean_squared_error, mean_absolute_error, r2_score\n",
    "\n",
    "# Linear Regression\n",
    "linear_reg_model = LinearRegression()\n",
    "linear_reg_model.fit(X_train, y_train)\n",
    "linear_reg_pred = linear_reg_model.predict(X_test)\n",
    "linear_mse = mean_squared_error(y_test, linear_reg_pred)\n",
    "linear_mae = mean_absolute_error(y_test, linear_reg_pred)\n",
    "linear_r2 = r2_score(y_test, linear_reg_pred)\n",
    "\n",
    "# Random Forest Regression\n",
    "rf_model = RandomForestRegressor()\n",
    "rf_model.fit(X_train, y_train)\n",
    "rf_pred = rf_model.predict(X_test)\n",
    "rf_mse = mean_squared_error(y_test, rf_pred)\n",
    "rf_mae = mean_absolute_error(y_test, rf_pred)\n",
    "rf_r2 = r2_score(y_test, rf_pred)\n",
    "\n",
    "# Support Vector Regression\n",
    "svr_model = SVR()\n",
    "svr_model.fit(X_train, y_train)\n",
    "svr_pred = svr_model.predict(X_test)\n",
    "svr_mse = mean_squared_error(y_test, svr_pred)\n",
    "svr_mae = mean_absolute_error(y_test, svr_pred)\n",
    "svr_r2 = r2_score(y_test, svr_pred)\n",
    "\n",
    "print(\"Linear Regression:\")\n",
    "print(\"Mean Squared Error:\", linear_mse)\n",
    "print(\"Mean Absolute Error:\", linear_mae)\n",
    "print(\"R-squared:\", linear_r2)\n",
    "\n",
    "print(\"\\nRandom Forest Regression:\")\n",
    "print(\"Mean Squared Error:\", rf_mse)\n",
    "print(\"Mean Absolute Error:\", rf_mae)\n",
    "print(\"R-squared:\", rf_r2)\n",
    "\n",
    "print(\"\\nSupport Vector Regression:\")\n",
    "print(\"Mean Squared Error:\", svr_mse)\n",
    "print(\"Mean Absolute Error:\", svr_mae)\n",
    "print(\"R-squared:\", svr_r2)\n"
   ]
  },
  {
   "cell_type": "code",
   "execution_count": 74,
   "id": "384f6dc7",
   "metadata": {},
   "outputs": [
    {
     "name": "stdout",
     "output_type": "stream",
     "text": [
      "Random Forest Regression:\n",
      "Mean Squared Error: 69669145307.07037\n",
      "Mean Absolute Error: 89062.33931\n",
      "R-squared: 0.8178963654291365\n"
     ]
    }
   ],
   "source": [
    "print(\"Random Forest Regression:\")\n",
    "print(f\"Mean Squared Error: {rf_mse}\")\n",
    "print(f\"Mean Absolute Error: {rf_mae}\")\n",
    "print(f\"R-squared: {rf_r2}\")\n"
   ]
  },
  {
   "cell_type": "code",
   "execution_count": 75,
   "id": "f3e36abe",
   "metadata": {
    "scrolled": true
   },
   "outputs": [
    {
     "name": "stdout",
     "output_type": "stream",
     "text": [
      "Random Forest Regression:\n",
      "ROOT Mean Squared Error: 257370.0900613307\n",
      "Mean Absolute Error: 88014.09732626066\n",
      "R-squared: 0.8268612490104759\n"
     ]
    }
   ],
   "source": [
    "from sklearn.ensemble import RandomForestRegressor\n",
    "from sklearn.metrics import mean_squared_error, mean_absolute_error, r2_score\n",
    "\n",
    "# Create a new Random Forest Regressor with the best hyperparameters\n",
    "best_rf_model = RandomForestRegressor(\n",
    "    n_estimators=300,\n",
    "    min_samples_split=2,\n",
    "    min_samples_leaf=4,\n",
    "    max_depth=20\n",
    ")\n",
    "\n",
    "# Train the model on the training data\n",
    "best_rf_model.fit(X_train, y_train)\n",
    "\n",
    "# Make predictions on the test data\n",
    "rf_pred = best_rf_model.predict(X_test)\n",
    "\n",
    "# Calculate evaluation metrics\n",
    "rf_mse = mean_squared_error(y_test, rf_pred)\n",
    "rf_mae = mean_absolute_error(y_test, rf_pred)\n",
    "rf_r2 = r2_score(y_test, rf_pred)\n",
    "\n",
    "# Print the evaluation metrics\n",
    "print(\"Random Forest Regression:\")\n",
    "print(\"ROOT Mean Squared Error:\", np.sqrt(rf_mse))\n",
    "print(\"Mean Absolute Error:\", rf_mae)\n",
    "print(\"R-squared:\", rf_r2)\n"
   ]
  },
  {
   "cell_type": "code",
   "execution_count": 76,
   "id": "46bebc7a",
   "metadata": {},
   "outputs": [
    {
     "data": {
      "text/html": [
       "<style>#sk-container-id-1 {color: black;}#sk-container-id-1 pre{padding: 0;}#sk-container-id-1 div.sk-toggleable {background-color: white;}#sk-container-id-1 label.sk-toggleable__label {cursor: pointer;display: block;width: 100%;margin-bottom: 0;padding: 0.3em;box-sizing: border-box;text-align: center;}#sk-container-id-1 label.sk-toggleable__label-arrow:before {content: \"▸\";float: left;margin-right: 0.25em;color: #696969;}#sk-container-id-1 label.sk-toggleable__label-arrow:hover:before {color: black;}#sk-container-id-1 div.sk-estimator:hover label.sk-toggleable__label-arrow:before {color: black;}#sk-container-id-1 div.sk-toggleable__content {max-height: 0;max-width: 0;overflow: hidden;text-align: left;background-color: #f0f8ff;}#sk-container-id-1 div.sk-toggleable__content pre {margin: 0.2em;color: black;border-radius: 0.25em;background-color: #f0f8ff;}#sk-container-id-1 input.sk-toggleable__control:checked~div.sk-toggleable__content {max-height: 200px;max-width: 100%;overflow: auto;}#sk-container-id-1 input.sk-toggleable__control:checked~label.sk-toggleable__label-arrow:before {content: \"▾\";}#sk-container-id-1 div.sk-estimator input.sk-toggleable__control:checked~label.sk-toggleable__label {background-color: #d4ebff;}#sk-container-id-1 div.sk-label input.sk-toggleable__control:checked~label.sk-toggleable__label {background-color: #d4ebff;}#sk-container-id-1 input.sk-hidden--visually {border: 0;clip: rect(1px 1px 1px 1px);clip: rect(1px, 1px, 1px, 1px);height: 1px;margin: -1px;overflow: hidden;padding: 0;position: absolute;width: 1px;}#sk-container-id-1 div.sk-estimator {font-family: monospace;background-color: #f0f8ff;border: 1px dotted black;border-radius: 0.25em;box-sizing: border-box;margin-bottom: 0.5em;}#sk-container-id-1 div.sk-estimator:hover {background-color: #d4ebff;}#sk-container-id-1 div.sk-parallel-item::after {content: \"\";width: 100%;border-bottom: 1px solid gray;flex-grow: 1;}#sk-container-id-1 div.sk-label:hover label.sk-toggleable__label {background-color: #d4ebff;}#sk-container-id-1 div.sk-serial::before {content: \"\";position: absolute;border-left: 1px solid gray;box-sizing: border-box;top: 0;bottom: 0;left: 50%;z-index: 0;}#sk-container-id-1 div.sk-serial {display: flex;flex-direction: column;align-items: center;background-color: white;padding-right: 0.2em;padding-left: 0.2em;position: relative;}#sk-container-id-1 div.sk-item {position: relative;z-index: 1;}#sk-container-id-1 div.sk-parallel {display: flex;align-items: stretch;justify-content: center;background-color: white;position: relative;}#sk-container-id-1 div.sk-item::before, #sk-container-id-1 div.sk-parallel-item::before {content: \"\";position: absolute;border-left: 1px solid gray;box-sizing: border-box;top: 0;bottom: 0;left: 50%;z-index: -1;}#sk-container-id-1 div.sk-parallel-item {display: flex;flex-direction: column;z-index: 1;position: relative;background-color: white;}#sk-container-id-1 div.sk-parallel-item:first-child::after {align-self: flex-end;width: 50%;}#sk-container-id-1 div.sk-parallel-item:last-child::after {align-self: flex-start;width: 50%;}#sk-container-id-1 div.sk-parallel-item:only-child::after {width: 0;}#sk-container-id-1 div.sk-dashed-wrapped {border: 1px dashed gray;margin: 0 0.4em 0.5em 0.4em;box-sizing: border-box;padding-bottom: 0.4em;background-color: white;}#sk-container-id-1 div.sk-label label {font-family: monospace;font-weight: bold;display: inline-block;line-height: 1.2em;}#sk-container-id-1 div.sk-label-container {text-align: center;}#sk-container-id-1 div.sk-container {/* jupyter's `normalize.less` sets `[hidden] { display: none; }` but bootstrap.min.css set `[hidden] { display: none !important; }` so we also need the `!important` here to be able to override the default hidden behavior on the sphinx rendered scikit-learn.org. See: https://github.com/scikit-learn/scikit-learn/issues/21755 */display: inline-block !important;position: relative;}#sk-container-id-1 div.sk-text-repr-fallback {display: none;}</style><div id=\"sk-container-id-1\" class=\"sk-top-container\"><div class=\"sk-text-repr-fallback\"><pre>RandomForestRegressor(max_depth=20, min_samples_leaf=4, n_estimators=300)</pre><b>In a Jupyter environment, please rerun this cell to show the HTML representation or trust the notebook. <br />On GitHub, the HTML representation is unable to render, please try loading this page with nbviewer.org.</b></div><div class=\"sk-container\" hidden><div class=\"sk-item\"><div class=\"sk-estimator sk-toggleable\"><input class=\"sk-toggleable__control sk-hidden--visually\" id=\"sk-estimator-id-1\" type=\"checkbox\" checked><label for=\"sk-estimator-id-1\" class=\"sk-toggleable__label sk-toggleable__label-arrow\">RandomForestRegressor</label><div class=\"sk-toggleable__content\"><pre>RandomForestRegressor(max_depth=20, min_samples_leaf=4, n_estimators=300)</pre></div></div></div></div></div>"
      ],
      "text/plain": [
       "RandomForestRegressor(max_depth=20, min_samples_leaf=4, n_estimators=300)"
      ]
     },
     "execution_count": 76,
     "metadata": {},
     "output_type": "execute_result"
    }
   ],
   "source": [
    "best_rf_model = RandomForestRegressor(n_estimators=300, min_samples_split=2, min_samples_leaf=4, max_depth=20)\n",
    "best_rf_model.fit(X_train, y_train)\n"
   ]
  },
  {
   "cell_type": "code",
   "execution_count": 77,
   "id": "92b15568",
   "metadata": {},
   "outputs": [],
   "source": [
    "predicted_avg_salary = best_rf_model.predict(X_test)\n"
   ]
  },
  {
   "cell_type": "code",
   "execution_count": 78,
   "id": "4d8bcae0",
   "metadata": {},
   "outputs": [
    {
     "name": "stdout",
     "output_type": "stream",
     "text": [
      "      Actual AvgSalary  Predicted AvgSalary\n",
      "1501           1095900         1.052949e+06\n",
      "2586            467380         5.107394e+05\n",
      "2653            858310         7.999252e+05\n",
      "1055           2135528         2.000644e+06\n",
      "705             447022         5.045008e+05\n",
      "...                ...                  ...\n",
      "4711            199771         3.485770e+05\n",
      "2313           1871584         1.799783e+06\n",
      "3214            161619         4.761438e+05\n",
      "2732            921350         9.161415e+05\n",
      "1926            926299         9.331697e+05\n",
      "\n",
      "[1000 rows x 2 columns]\n"
     ]
    }
   ],
   "source": [
    "comparison = pd.DataFrame({'Actual AvgSalary': y_test, 'Predicted AvgSalary': predicted_avg_salary})\n",
    "print(comparison)\n"
   ]
  },
  {
   "cell_type": "code",
   "execution_count": 79,
   "id": "933c594c",
   "metadata": {},
   "outputs": [
    {
     "name": "stdout",
     "output_type": "stream",
     "text": [
      "1052949.3014081845\n",
      "510739.3996914857\n",
      "799925.2443836897\n",
      "2000644.4529971732\n",
      "504500.78915476997\n",
      "231987.1672114091\n",
      "258201.79746369875\n",
      "998868.092914493\n",
      "324414.98904123757\n",
      "259579.51425316473\n"
     ]
    }
   ],
   "source": [
    "for i in range(10):\n",
    "    print(predicted_avg_salary[i])\n"
   ]
  },
  {
   "cell_type": "code",
   "execution_count": 82,
   "id": "7fa5e170",
   "metadata": {},
   "outputs": [
    {
     "name": "stdout",
     "output_type": "stream",
     "text": [
      "1501    1095900\n",
      "2586     467380\n",
      "2653     858310\n",
      "1055    2135528\n",
      "705      447022\n",
      "         ...   \n",
      "4711     199771\n",
      "2313    1871584\n",
      "3214     161619\n",
      "2732     921350\n",
      "1926     926299\n",
      "Name: AvgSalary, Length: 1000, dtype: int32\n"
     ]
    }
   ],
   "source": [
    "print(y_test)"
   ]
  },
  {
   "cell_type": "code",
   "execution_count": 83,
   "id": "138d99b8",
   "metadata": {},
   "outputs": [
    {
     "name": "stdout",
     "output_type": "stream",
     "text": [
      "0.8256573318227556\n"
     ]
    }
   ],
   "source": [
    "from sklearn.metrics import confusion_matrix, accuracy_score,r2_score\n",
    "ac = r2_score(y_test,predicted_avg_salary)\n",
    "print(ac)"
   ]
  },
  {
   "cell_type": "code",
   "execution_count": 87,
   "id": "3f938037",
   "metadata": {},
   "outputs": [
    {
     "name": "stdout",
     "output_type": "stream",
     "text": [
      "Random Forest Regression:\n",
      "Root Mean Squared Error: 258263.34907993284\n",
      "Mean Absolute Error: 87504.55754512544\n",
      "R-squared: 0.8256573318227556\n"
     ]
    }
   ],
   "source": [
    "\n",
    "# Calculate evaluation metrics\n",
    "rf_mse = mean_squared_error(y_test, predicted_avg_salary)\n",
    "rf_mae = mean_absolute_error(y_test, predicted_avg_salary)\n",
    "rf_r2 = r2_score(y_test, predicted_avg_salary)\n",
    "\n",
    "# Print the evaluation metrics\n",
    "print(\"Random Forest Regression:\")\n",
    "print(\"Root Mean Squared Error:\", np.sqrt(rf_mse))\n",
    "print(\"Mean Absolute Error:\", rf_mae)\n",
    "print(\"R-squared:\", rf_r2)"
   ]
  },
  {
   "cell_type": "markdown",
   "id": "6b8a01eb",
   "metadata": {},
   "source": [
    "## MVLR"
   ]
  },
  {
   "cell_type": "code",
   "execution_count": 88,
   "id": "8ddf6ee1",
   "metadata": {
    "scrolled": true
   },
   "outputs": [
    {
     "data": {
      "text/html": [
       "<div>\n",
       "<style scoped>\n",
       "    .dataframe tbody tr th:only-of-type {\n",
       "        vertical-align: middle;\n",
       "    }\n",
       "\n",
       "    .dataframe tbody tr th {\n",
       "        vertical-align: top;\n",
       "    }\n",
       "\n",
       "    .dataframe thead th {\n",
       "        text-align: right;\n",
       "    }\n",
       "</style>\n",
       "<table border=\"1\" class=\"dataframe\">\n",
       "  <thead>\n",
       "    <tr style=\"text-align: right;\">\n",
       "      <th></th>\n",
       "      <th>Actual AvgSalary</th>\n",
       "      <th>Predicted AvgSalary</th>\n",
       "    </tr>\n",
       "  </thead>\n",
       "  <tbody>\n",
       "    <tr>\n",
       "      <th>1501</th>\n",
       "      <td>1095900</td>\n",
       "      <td>1.052949e+06</td>\n",
       "    </tr>\n",
       "    <tr>\n",
       "      <th>2586</th>\n",
       "      <td>467380</td>\n",
       "      <td>5.107394e+05</td>\n",
       "    </tr>\n",
       "    <tr>\n",
       "      <th>2653</th>\n",
       "      <td>858310</td>\n",
       "      <td>7.999252e+05</td>\n",
       "    </tr>\n",
       "    <tr>\n",
       "      <th>1055</th>\n",
       "      <td>2135528</td>\n",
       "      <td>2.000644e+06</td>\n",
       "    </tr>\n",
       "    <tr>\n",
       "      <th>705</th>\n",
       "      <td>447022</td>\n",
       "      <td>5.045008e+05</td>\n",
       "    </tr>\n",
       "  </tbody>\n",
       "</table>\n",
       "</div>"
      ],
      "text/plain": [
       "      Actual AvgSalary  Predicted AvgSalary\n",
       "1501           1095900         1.052949e+06\n",
       "2586            467380         5.107394e+05\n",
       "2653            858310         7.999252e+05\n",
       "1055           2135528         2.000644e+06\n",
       "705             447022         5.045008e+05"
      ]
     },
     "execution_count": 88,
     "metadata": {},
     "output_type": "execute_result"
    }
   ],
   "source": [
    "comparison.head()"
   ]
  },
  {
   "cell_type": "code",
   "execution_count": 89,
   "id": "70bd5c35",
   "metadata": {},
   "outputs": [
    {
     "name": "stdout",
     "output_type": "stream",
     "text": [
      "Accuracy of the best tuned Random Forest model: 82.57%\n"
     ]
    }
   ],
   "source": [
    "from sklearn.metrics import r2_score\n",
    "\n",
    "# Predictions using the best tuned Random Forest model\n",
    "rf_pred = best_rf_model.predict(X_test)\n",
    "\n",
    "# Calculate R-squared\n",
    "r2 = r2_score(y_test, rf_pred)\n",
    "\n",
    "# Calculate accuracy in percentage\n",
    "accuracy_percentage = r2 * 100\n",
    "\n",
    "print(f\"Accuracy of the best tuned Random Forest model: {accuracy_percentage:.2f}%\")\n"
   ]
  },
  {
   "cell_type": "code",
   "execution_count": null,
   "id": "0533c7b4",
   "metadata": {},
   "outputs": [],
   "source": [
    "# pip install joblib\n"
   ]
  },
  {
   "cell_type": "code",
   "execution_count": 90,
   "id": "4188757a",
   "metadata": {},
   "outputs": [
    {
     "data": {
      "text/plain": [
       "['random_forest_regressor.pkl']"
      ]
     },
     "execution_count": 90,
     "metadata": {},
     "output_type": "execute_result"
    }
   ],
   "source": [
    "import joblib\n",
    "\n",
    "# Save the model to a file\n",
    "model_filename = 'random_forest_regressor.pkl'\n",
    "joblib.dump(best_rf_model, model_filename)\n"
   ]
  },
  {
   "cell_type": "code",
   "execution_count": null,
   "id": "0715c874",
   "metadata": {},
   "outputs": [],
   "source": []
  },
  {
   "cell_type": "code",
   "execution_count": 91,
   "id": "a1b163b8",
   "metadata": {},
   "outputs": [],
   "source": [
    "loaded_model = joblib.load(model_filename)\n"
   ]
  },
  {
   "cell_type": "code",
   "execution_count": 92,
   "id": "4853a441",
   "metadata": {},
   "outputs": [
    {
     "name": "stdout",
     "output_type": "stream",
     "text": [
      "RandomForestRegressor(max_depth=20, min_samples_leaf=4, n_estimators=300)\n"
     ]
    }
   ],
   "source": [
    "print(loaded_model)"
   ]
  },
  {
   "cell_type": "code",
   "execution_count": 93,
   "id": "fd7cb7ed",
   "metadata": {},
   "outputs": [
    {
     "data": {
      "text/plain": [
       "0     594125\n",
       "1     905500\n",
       "2    1459521\n",
       "3     395563\n",
       "4    1813704\n",
       "5     440285\n",
       "6     631603\n",
       "7     318501\n",
       "8     656037\n",
       "9     675504\n",
       "Name: AvgSalary, dtype: int32"
      ]
     },
     "execution_count": 93,
     "metadata": {},
     "output_type": "execute_result"
    }
   ],
   "source": [
    "y.head(10)"
   ]
  },
  {
   "cell_type": "code",
   "execution_count": 94,
   "id": "1456da9c",
   "metadata": {},
   "outputs": [
    {
     "data": {
      "text/plain": [
       "Index(['AvgSalary', 'MinSalary', 'MaxSalary', 'AvgExperience', 'Company_Job'], dtype='object')"
      ]
     },
     "execution_count": 94,
     "metadata": {},
     "output_type": "execute_result"
    }
   ],
   "source": [
    "df.columns"
   ]
  },
  {
   "cell_type": "code",
   "execution_count": 101,
   "id": "9535a1a9",
   "metadata": {},
   "outputs": [
    {
     "name": "stdout",
     "output_type": "stream",
     "text": [
      "[3.8, 34.2, 12.5, 448.0]\n",
      "[1820809.12998776]\n"
     ]
    },
    {
     "name": "stderr",
     "output_type": "stream",
     "text": [
      "C:\\Users\\chand\\AppData\\Local\\Programs\\Python\\Python310\\lib\\site-packages\\sklearn\\base.py:464: UserWarning: X does not have valid feature names, but RandomForestRegressor was fitted with feature names\n",
      "  warnings.warn(\n"
     ]
    }
   ],
   "source": [
    "N = 4\n",
    "# df.iloc[N]\n",
    "\n",
    "value_pred = X.iloc[N].to_list()\n",
    "value_pred = value_pred[:]\n",
    "print(value_pred)\n",
    "\n",
    "predictions = loaded_model.predict([value_pred])\n",
    "\n",
    "print(predictions)"
   ]
  },
  {
   "cell_type": "code",
   "execution_count": 119,
   "id": "f7dc056a",
   "metadata": {},
   "outputs": [
    {
     "name": "stderr",
     "output_type": "stream",
     "text": [
      "C:\\Users\\chand\\AppData\\Local\\Programs\\Python\\Python310\\lib\\site-packages\\sklearn\\base.py:464: UserWarning: X does not have valid feature names, but RandomForestRegressor was fitted with feature names\n",
      "  warnings.warn(\n"
     ]
    },
    {
     "data": {
      "text/plain": [
       "array([1820809.12998776])"
      ]
     },
     "execution_count": 119,
     "metadata": {},
     "output_type": "execute_result"
    }
   ],
   "source": [
    "loaded_model.predict([[3.8, 34.2, 12.5, 448]])"
   ]
  },
  {
   "cell_type": "code",
   "execution_count": null,
   "id": "8cbc01b3",
   "metadata": {},
   "outputs": [],
   "source": []
  },
  {
   "cell_type": "code",
   "execution_count": null,
   "id": "6936a905",
   "metadata": {},
   "outputs": [],
   "source": []
  },
  {
   "cell_type": "code",
   "execution_count": 121,
   "id": "8010945d",
   "metadata": {},
   "outputs": [
    {
     "data": {
      "text/plain": [
       "0.8256573318227556"
      ]
     },
     "execution_count": 121,
     "metadata": {},
     "output_type": "execute_result"
    }
   ],
   "source": [
    "# check model accuracy\n",
    "r2_score(y_test,predicted_avg_salary)"
   ]
  },
  {
   "cell_type": "code",
   "execution_count": null,
   "id": "811607e1-e922-433a-8b38-e10ab13256fa",
   "metadata": {},
   "outputs": [],
   "source": []
  }
 ],
 "metadata": {
  "kernelspec": {
   "display_name": "Python 3 (ipykernel)",
   "language": "python",
   "name": "python3"
  },
  "language_info": {
   "codemirror_mode": {
    "name": "ipython",
    "version": 3
   },
   "file_extension": ".py",
   "mimetype": "text/x-python",
   "name": "python",
   "nbconvert_exporter": "python",
   "pygments_lexer": "ipython3",
   "version": "3.10.5"
  }
 },
 "nbformat": 4,
 "nbformat_minor": 5
}
